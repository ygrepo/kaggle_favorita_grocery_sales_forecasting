{
 "cells": [
  {
   "cell_type": "code",
   "execution_count": 1,
   "id": "ae3b7b28",
   "metadata": {},
   "outputs": [],
   "source": [
    "import pandas as pd\n",
    "import numpy as np"
   ]
  },
  {
   "cell_type": "code",
   "execution_count": 2,
   "id": "2410358a",
   "metadata": {},
   "outputs": [],
   "source": [
    "\n",
    "import sys\n",
    "sys.path.insert(0, \"..\")  \n",
    "from src.data_preprocessing import prepare_data, select_extreme_and_median_neighbors"
   ]
  },
  {
   "cell_type": "code",
   "execution_count": 3,
   "id": "167ca5e3",
   "metadata": {},
   "outputs": [],
   "source": [
    "%load_ext autoreload\n",
    "%autoreload 2"
   ]
  },
  {
   "cell_type": "code",
   "execution_count": 4,
   "id": "acd67b88",
   "metadata": {},
   "outputs": [
    {
     "data": {
      "text/plain": [
       "'/Users/yvesgreatti/github/kaggle_favorita_grocery_sales_forecasting/notebook'"
      ]
     },
     "execution_count": 4,
     "metadata": {},
     "output_type": "execute_result"
    }
   ],
   "source": [
    "%pwd"
   ]
  },
  {
   "cell_type": "code",
   "execution_count": 12,
   "id": "b9efbcfa",
   "metadata": {},
   "outputs": [
    {
     "name": "stderr",
     "output_type": "stream",
     "text": [
      "/var/folders/w3/d06m5l_97yn4bnxd5t6cgbjr0000gn/T/ipykernel_61388/875314511.py:7: DtypeWarning: Columns (6) have mixed types. Specify dtype option on import or set low_memory=False.\n",
      "  df = pd.read_csv(\"../data/20250707_train.csv\",dtype=dtype_dict)\n"
     ]
    },
    {
     "data": {
      "text/html": [
       "<div>\n",
       "<style scoped>\n",
       "    .dataframe tbody tr th:only-of-type {\n",
       "        vertical-align: middle;\n",
       "    }\n",
       "\n",
       "    .dataframe tbody tr th {\n",
       "        vertical-align: top;\n",
       "    }\n",
       "\n",
       "    .dataframe thead th {\n",
       "        text-align: right;\n",
       "    }\n",
       "</style>\n",
       "<table border=\"1\" class=\"dataframe\">\n",
       "  <thead>\n",
       "    <tr style=\"text-align: right;\">\n",
       "      <th></th>\n",
       "      <th>date</th>\n",
       "      <th>store_item</th>\n",
       "      <th>store</th>\n",
       "      <th>item</th>\n",
       "      <th>id</th>\n",
       "      <th>unit_sales</th>\n",
       "      <th>onpromotion</th>\n",
       "    </tr>\n",
       "  </thead>\n",
       "  <tbody>\n",
       "    <tr>\n",
       "      <th>0</th>\n",
       "      <td>2013-01-01</td>\n",
       "      <td>25_103665</td>\n",
       "      <td>25</td>\n",
       "      <td>103665</td>\n",
       "      <td>0</td>\n",
       "      <td>7.0</td>\n",
       "      <td>NaN</td>\n",
       "    </tr>\n",
       "    <tr>\n",
       "      <th>1</th>\n",
       "      <td>2013-01-01</td>\n",
       "      <td>25_105574</td>\n",
       "      <td>25</td>\n",
       "      <td>105574</td>\n",
       "      <td>1</td>\n",
       "      <td>1.0</td>\n",
       "      <td>NaN</td>\n",
       "    </tr>\n",
       "    <tr>\n",
       "      <th>2</th>\n",
       "      <td>2013-01-01</td>\n",
       "      <td>25_105575</td>\n",
       "      <td>25</td>\n",
       "      <td>105575</td>\n",
       "      <td>2</td>\n",
       "      <td>2.0</td>\n",
       "      <td>NaN</td>\n",
       "    </tr>\n",
       "    <tr>\n",
       "      <th>3</th>\n",
       "      <td>2013-01-01</td>\n",
       "      <td>25_108079</td>\n",
       "      <td>25</td>\n",
       "      <td>108079</td>\n",
       "      <td>3</td>\n",
       "      <td>1.0</td>\n",
       "      <td>NaN</td>\n",
       "    </tr>\n",
       "    <tr>\n",
       "      <th>4</th>\n",
       "      <td>2013-01-01</td>\n",
       "      <td>25_108701</td>\n",
       "      <td>25</td>\n",
       "      <td>108701</td>\n",
       "      <td>4</td>\n",
       "      <td>1.0</td>\n",
       "      <td>NaN</td>\n",
       "    </tr>\n",
       "  </tbody>\n",
       "</table>\n",
       "</div>"
      ],
      "text/plain": [
       "        date store_item  store    item  id  unit_sales onpromotion\n",
       "0 2013-01-01  25_103665     25  103665   0         7.0         NaN\n",
       "1 2013-01-01  25_105574     25  105574   1         1.0         NaN\n",
       "2 2013-01-01  25_105575     25  105575   2         2.0         NaN\n",
       "3 2013-01-01  25_108079     25  108079   3         1.0         NaN\n",
       "4 2013-01-01  25_108701     25  108701   4         1.0         NaN"
      ]
     },
     "execution_count": 12,
     "metadata": {},
     "output_type": "execute_result"
    }
   ],
   "source": [
    "dtype_dict={\"id\":np.uint32,\n",
    "            \"store_nbr\":np.uint8,\n",
    "            \"item_nbr\":np.uint32,\n",
    "            \"unit_sales\":np.float32\n",
    "           }\n",
    "#n_rows = 100\n",
    "df = pd.read_csv(\"../data/20250707_train.csv\",dtype=dtype_dict)\n",
    "cols = ['date', 'store_item', 'store', 'item'] + [c for c in df.columns \n",
    "                                  if c not in ('date', 'store_item', 'store', 'item')]\n",
    "df = df[cols]\n",
    "df[\"date\"] = pd.to_datetime(df[\"date\"])\n",
    "df.sort_values(\"date\", inplace=True)\n",
    "df.reset_index(drop=True, inplace=True)\n",
    "df.head()\n"
   ]
  },
  {
   "cell_type": "code",
   "execution_count": 13,
   "id": "520e9316",
   "metadata": {},
   "outputs": [
    {
     "data": {
      "text/plain": [
       "125497040"
      ]
     },
     "execution_count": 13,
     "metadata": {},
     "output_type": "execute_result"
    }
   ],
   "source": [
    "len(df)"
   ]
  },
  {
   "cell_type": "code",
   "execution_count": 29,
   "id": "b7e6fe9d",
   "metadata": {},
   "outputs": [
    {
     "name": "stderr",
     "output_type": "stream",
     "text": [
      "/var/folders/w3/d06m5l_97yn4bnxd5t6cgbjr0000gn/T/ipykernel_61388/276473271.py:1: FutureWarning: The behavior of 'isin' with dtype=datetime64[ns] and castable values (e.g. strings) is deprecated. In a future version, these will not be considered matching by isin. Explicitly cast to the appropriate dtype before calling isin instead.\n",
      "  df2 = df.query(\"date == '2015-02-09' | date == '2015-02-10'\")\n"
     ]
    },
    {
     "data": {
      "text/html": [
       "<div>\n",
       "<style scoped>\n",
       "    .dataframe tbody tr th:only-of-type {\n",
       "        vertical-align: middle;\n",
       "    }\n",
       "\n",
       "    .dataframe tbody tr th {\n",
       "        vertical-align: top;\n",
       "    }\n",
       "\n",
       "    .dataframe thead th {\n",
       "        text-align: right;\n",
       "    }\n",
       "</style>\n",
       "<table border=\"1\" class=\"dataframe\">\n",
       "  <thead>\n",
       "    <tr style=\"text-align: right;\">\n",
       "      <th></th>\n",
       "      <th>date</th>\n",
       "      <th>store_item</th>\n",
       "      <th>store</th>\n",
       "      <th>item</th>\n",
       "      <th>id</th>\n",
       "      <th>unit_sales</th>\n",
       "      <th>onpromotion</th>\n",
       "    </tr>\n",
       "  </thead>\n",
       "  <tbody>\n",
       "    <tr>\n",
       "      <th>40835085</th>\n",
       "      <td>2015-02-09</td>\n",
       "      <td>1_108634</td>\n",
       "      <td>1</td>\n",
       "      <td>108634</td>\n",
       "      <td>40835090</td>\n",
       "      <td>2.0</td>\n",
       "      <td>False</td>\n",
       "    </tr>\n",
       "    <tr>\n",
       "      <th>40835086</th>\n",
       "      <td>2015-02-09</td>\n",
       "      <td>1_108952</td>\n",
       "      <td>1</td>\n",
       "      <td>108952</td>\n",
       "      <td>40835096</td>\n",
       "      <td>7.0</td>\n",
       "      <td>False</td>\n",
       "    </tr>\n",
       "    <tr>\n",
       "      <th>40835087</th>\n",
       "      <td>2015-02-09</td>\n",
       "      <td>1_105575</td>\n",
       "      <td>1</td>\n",
       "      <td>105575</td>\n",
       "      <td>40835088</td>\n",
       "      <td>12.0</td>\n",
       "      <td>False</td>\n",
       "    </tr>\n",
       "    <tr>\n",
       "      <th>40835088</th>\n",
       "      <td>2015-02-09</td>\n",
       "      <td>1_108698</td>\n",
       "      <td>1</td>\n",
       "      <td>108698</td>\n",
       "      <td>40835091</td>\n",
       "      <td>4.0</td>\n",
       "      <td>False</td>\n",
       "    </tr>\n",
       "    <tr>\n",
       "      <th>40835089</th>\n",
       "      <td>2015-02-09</td>\n",
       "      <td>1_108701</td>\n",
       "      <td>1</td>\n",
       "      <td>108701</td>\n",
       "      <td>40835092</td>\n",
       "      <td>1.0</td>\n",
       "      <td>False</td>\n",
       "    </tr>\n",
       "  </tbody>\n",
       "</table>\n",
       "</div>"
      ],
      "text/plain": [
       "               date store_item  store    item        id  unit_sales  \\\n",
       "40835085 2015-02-09   1_108634      1  108634  40835090         2.0   \n",
       "40835086 2015-02-09   1_108952      1  108952  40835096         7.0   \n",
       "40835087 2015-02-09   1_105575      1  105575  40835088        12.0   \n",
       "40835088 2015-02-09   1_108698      1  108698  40835091         4.0   \n",
       "40835089 2015-02-09   1_108701      1  108701  40835092         1.0   \n",
       "\n",
       "         onpromotion  \n",
       "40835085       False  \n",
       "40835086       False  \n",
       "40835087       False  \n",
       "40835088       False  \n",
       "40835089       False  "
      ]
     },
     "execution_count": 29,
     "metadata": {},
     "output_type": "execute_result"
    }
   ],
   "source": [
    "df2 = df.query(\"date == '2015-02-09' | date == '2015-02-10'\")\n",
    "df2.head()"
   ]
  },
  {
   "cell_type": "code",
   "execution_count": 30,
   "id": "6d243947",
   "metadata": {},
   "outputs": [],
   "source": [
    "df2.to_csv(\"../output/data/20150209_10_train_top_20_item_cluster.csv\", index=False)"
   ]
  },
  {
   "cell_type": "code",
   "execution_count": 17,
   "id": "9713387e",
   "metadata": {},
   "outputs": [],
   "source": [
    "df2 = df.query(\"store_item == '10_1046272'\")"
   ]
  },
  {
   "cell_type": "code",
   "execution_count": 19,
   "id": "fad18f57",
   "metadata": {},
   "outputs": [],
   "source": [
    "df2.to_csv(\"../output/data/10_1046272_train.csv\", index=False)"
   ]
  },
  {
   "cell_type": "code",
   "execution_count": 22,
   "id": "66b21129",
   "metadata": {},
   "outputs": [
    {
     "data": {
      "text/html": [
       "<div>\n",
       "<style scoped>\n",
       "    .dataframe tbody tr th:only-of-type {\n",
       "        vertical-align: middle;\n",
       "    }\n",
       "\n",
       "    .dataframe tbody tr th {\n",
       "        vertical-align: top;\n",
       "    }\n",
       "\n",
       "    .dataframe thead th {\n",
       "        text-align: right;\n",
       "    }\n",
       "</style>\n",
       "<table border=\"1\" class=\"dataframe\">\n",
       "  <thead>\n",
       "    <tr style=\"text-align: right;\">\n",
       "      <th></th>\n",
       "      <th>date</th>\n",
       "      <th>store_item</th>\n",
       "      <th>store</th>\n",
       "      <th>item</th>\n",
       "      <th>id</th>\n",
       "      <th>unit_sales</th>\n",
       "      <th>onpromotion</th>\n",
       "    </tr>\n",
       "  </thead>\n",
       "  <tbody>\n",
       "    <tr>\n",
       "      <th>40848630</th>\n",
       "      <td>2015-02-09</td>\n",
       "      <td>10_1046272</td>\n",
       "      <td>10</td>\n",
       "      <td>1046272</td>\n",
       "      <td>40848631</td>\n",
       "      <td>3.0</td>\n",
       "      <td>False</td>\n",
       "    </tr>\n",
       "    <tr>\n",
       "      <th>40907418</th>\n",
       "      <td>2015-02-10</td>\n",
       "      <td>10_1046272</td>\n",
       "      <td>10</td>\n",
       "      <td>1046272</td>\n",
       "      <td>40907421</td>\n",
       "      <td>3.0</td>\n",
       "      <td>False</td>\n",
       "    </tr>\n",
       "    <tr>\n",
       "      <th>40965306</th>\n",
       "      <td>2015-02-11</td>\n",
       "      <td>10_1046272</td>\n",
       "      <td>10</td>\n",
       "      <td>1046272</td>\n",
       "      <td>40965308</td>\n",
       "      <td>2.0</td>\n",
       "      <td>False</td>\n",
       "    </tr>\n",
       "    <tr>\n",
       "      <th>41080306</th>\n",
       "      <td>2015-02-13</td>\n",
       "      <td>10_1046272</td>\n",
       "      <td>10</td>\n",
       "      <td>1046272</td>\n",
       "      <td>41080311</td>\n",
       "      <td>1.0</td>\n",
       "      <td>False</td>\n",
       "    </tr>\n",
       "    <tr>\n",
       "      <th>41141260</th>\n",
       "      <td>2015-02-14</td>\n",
       "      <td>10_1046272</td>\n",
       "      <td>10</td>\n",
       "      <td>1046272</td>\n",
       "      <td>41141263</td>\n",
       "      <td>1.0</td>\n",
       "      <td>False</td>\n",
       "    </tr>\n",
       "  </tbody>\n",
       "</table>\n",
       "</div>"
      ],
      "text/plain": [
       "               date  store_item  store     item        id  unit_sales  \\\n",
       "40848630 2015-02-09  10_1046272     10  1046272  40848631         3.0   \n",
       "40907418 2015-02-10  10_1046272     10  1046272  40907421         3.0   \n",
       "40965306 2015-02-11  10_1046272     10  1046272  40965308         2.0   \n",
       "41080306 2015-02-13  10_1046272     10  1046272  41080311         1.0   \n",
       "41141260 2015-02-14  10_1046272     10  1046272  41141263         1.0   \n",
       "\n",
       "         onpromotion  \n",
       "40848630       False  \n",
       "40907418       False  \n",
       "40965306       False  \n",
       "41080306       False  \n",
       "41141260       False  "
      ]
     },
     "execution_count": 22,
     "metadata": {},
     "output_type": "execute_result"
    }
   ],
   "source": [
    "df2.head()"
   ]
  },
  {
   "cell_type": "code",
   "execution_count": 21,
   "id": "8af719ca",
   "metadata": {},
   "outputs": [
    {
     "name": "stderr",
     "output_type": "stream",
     "text": [
      "/var/folders/w3/d06m5l_97yn4bnxd5t6cgbjr0000gn/T/ipykernel_61388/1255518003.py:1: SettingWithCopyWarning: \n",
      "A value is trying to be set on a copy of a slice from a DataFrame\n",
      "\n",
      "See the caveats in the documentation: https://pandas.pydata.org/pandas-docs/stable/user_guide/indexing.html#returning-a-view-versus-a-copy\n",
      "  df2.sort_values(\"date\", inplace=True)\n"
     ]
    }
   ],
   "source": [
    "df2.sort_values(\"date\", inplace=True)"
   ]
  },
  {
   "cell_type": "code",
   "execution_count": 8,
   "id": "60773944",
   "metadata": {},
   "outputs": [
    {
     "data": {
      "text/html": [
       "<div>\n",
       "<style scoped>\n",
       "    .dataframe tbody tr th:only-of-type {\n",
       "        vertical-align: middle;\n",
       "    }\n",
       "\n",
       "    .dataframe tbody tr th {\n",
       "        vertical-align: top;\n",
       "    }\n",
       "\n",
       "    .dataframe thead th {\n",
       "        text-align: right;\n",
       "    }\n",
       "</style>\n",
       "<table border=\"1\" class=\"dataframe\">\n",
       "  <thead>\n",
       "    <tr style=\"text-align: right;\">\n",
       "      <th></th>\n",
       "      <th>total</th>\n",
       "    </tr>\n",
       "    <tr>\n",
       "      <th>item</th>\n",
       "      <th></th>\n",
       "    </tr>\n",
       "  </thead>\n",
       "  <tbody>\n",
       "    <tr>\n",
       "      <th>819206</th>\n",
       "      <td>0.502</td>\n",
       "    </tr>\n",
       "    <tr>\n",
       "      <th>671699</th>\n",
       "      <td>0.880</td>\n",
       "    </tr>\n",
       "    <tr>\n",
       "      <th>809183</th>\n",
       "      <td>1.000</td>\n",
       "    </tr>\n",
       "    <tr>\n",
       "      <th>805788</th>\n",
       "      <td>1.000</td>\n",
       "    </tr>\n",
       "    <tr>\n",
       "      <th>804932</th>\n",
       "      <td>1.000</td>\n",
       "    </tr>\n",
       "    <tr>\n",
       "      <th>...</th>\n",
       "      <td>...</td>\n",
       "    </tr>\n",
       "    <tr>\n",
       "      <th>692537</th>\n",
       "      <td>11.000</td>\n",
       "    </tr>\n",
       "    <tr>\n",
       "      <th>699692</th>\n",
       "      <td>11.280</td>\n",
       "    </tr>\n",
       "    <tr>\n",
       "      <th>839363</th>\n",
       "      <td>12.000</td>\n",
       "    </tr>\n",
       "    <tr>\n",
       "      <th>847859</th>\n",
       "      <td>12.000</td>\n",
       "    </tr>\n",
       "    <tr>\n",
       "      <th>671039</th>\n",
       "      <td>13.000</td>\n",
       "    </tr>\n",
       "  </tbody>\n",
       "</table>\n",
       "<p>100 rows × 1 columns</p>\n",
       "</div>"
      ],
      "text/plain": [
       "         total\n",
       "item          \n",
       "819206   0.502\n",
       "671699   0.880\n",
       "809183   1.000\n",
       "805788   1.000\n",
       "804932   1.000\n",
       "...        ...\n",
       "692537  11.000\n",
       "699692  11.280\n",
       "839363  12.000\n",
       "847859  12.000\n",
       "671039  13.000\n",
       "\n",
       "[100 rows x 1 columns]"
      ]
     },
     "execution_count": 8,
     "metadata": {},
     "output_type": "execute_result"
    }
   ],
   "source": [
    "df2 = df[[\"item\", \"unit_sales\"]]\n",
    "grouped = df2.groupby(\"item\").agg({\"unit_sales\": \"sum\"}).rename(columns={\"unit_sales\": \"total\"})\n",
    "sorted_grouped = grouped.sort_values(\"total\")\n",
    "sorted_grouped"
   ]
  },
  {
   "cell_type": "code",
   "execution_count": 11,
   "id": "8b1d4784",
   "metadata": {},
   "outputs": [
    {
     "data": {
      "text/plain": [
       "3"
      ]
     },
     "execution_count": 11,
     "metadata": {},
     "output_type": "execute_result"
    }
   ],
   "source": [
    "bottom_m = sorted_grouped.head(4).drop_duplicates()\n",
    "len(bottom_m)"
   ]
  },
  {
   "cell_type": "code",
   "execution_count": 12,
   "id": "1a385053",
   "metadata": {},
   "outputs": [
    {
     "data": {
      "text/plain": [
       "Index([819206, 671699, 809183], dtype='int64', name='item')"
      ]
     },
     "execution_count": 12,
     "metadata": {},
     "output_type": "execute_result"
    }
   ],
   "source": [
    "bottom_m.index"
   ]
  },
  {
   "cell_type": "code",
   "execution_count": 24,
   "id": "c2a234a7",
   "metadata": {},
   "outputs": [
    {
     "name": "stderr",
     "output_type": "stream",
     "text": [
      "2025-07-11 11:14:59,807 - INFO - Selected 100 groups\n",
      "2025-07-11 11:14:59,819 - INFO - Selecting 5 bottom groups\n",
      "2025-07-11 11:14:59,820 - INFO - Selected 5 bottom groups\n",
      "2025-07-11 11:14:59,821 - INFO - Selecting 5 top groups\n",
      "2025-07-11 11:14:59,822 - INFO - Selected 5 top groups\n",
      "2025-07-11 11:14:59,825 - INFO - Selecting 8 median groups\n",
      "2025-07-11 11:14:59,831 - INFO - Selected 8 median groups\n",
      "2025-07-11 11:14:59,832 - INFO - Top ∩ Bottom: 0\n",
      "2025-07-11 11:14:59,833 - INFO - Top ∩ Median: 0\n",
      "2025-07-11 11:14:59,834 - INFO - Bottom ∩ Median: 0\n",
      "2025-07-11 11:14:59,835 - INFO - Total unique groups: 18\n"
     ]
    }
   ],
   "source": [
    "df_top_items = select_extreme_and_median_neighbors(\n",
    "        df,\n",
    "        n_col=\"unit_sales\",\n",
    "        group_column=\"item\",\n",
    "        M=5,\n",
    "        m=5,\n",
    "        med=4\n",
    ")"
   ]
  },
  {
   "cell_type": "code",
   "execution_count": 25,
   "id": "bf023157",
   "metadata": {},
   "outputs": [
    {
     "data": {
      "text/plain": [
       "[819206,\n",
       " 671699,\n",
       " 809183,\n",
       " 805788,\n",
       " 804932,\n",
       " 874990,\n",
       " 847863,\n",
       " 802832,\n",
       " 848953,\n",
       " 839545,\n",
       " 849098,\n",
       " 819194,\n",
       " 789223,\n",
       " 692537,\n",
       " 699692,\n",
       " 839363,\n",
       " 847859,\n",
       " 671039]"
      ]
     },
     "execution_count": 25,
     "metadata": {},
     "output_type": "execute_result"
    }
   ],
   "source": [
    "df_top_items.reset_index()[\"item\"].tolist()"
   ]
  },
  {
   "cell_type": "code",
   "execution_count": 4,
   "id": "4f3c7225",
   "metadata": {},
   "outputs": [],
   "source": [
    "# df[\"date\"] = pd.to_datetime(df[\"date\"])\n",
    "# df[\"unit_sales\"] = df[\"unit_sales\"].fillna(0)\n",
    "# df['unit_sales'] = df['unit_sales'].clip(lower=0)\n",
    "# df.rename(columns={\"item_nbr\":\"item\",\"store_nbr\":\"store\"}, inplace=True)\n",
    "# df[\"store_item\"] = df[\"store\"].astype(str).str.cat(df[\"item\"].astype(str), sep=\"_\")\n",
    "\n",
    "# # assume df[\"date\"] is datetime64[ns]\n",
    "# min_date = df[\"date\"].min()\n",
    "\n",
    "# # compute the Monday of the week containing min_date\n",
    "# week_start = min_date - pd.Timedelta(days=min_date.weekday())\n",
    "# week_start\n",
    "# #if min_date is already a Monday, keep that; otherwise bump to next week’s Monday\n",
    "# if min_date.weekday() == 0:\n",
    "#     first_monday = week_start\n",
    "# else:\n",
    "#     first_monday = week_start + pd.Timedelta(days=7)\n",
    "\n",
    "# print(\"min_date:\", min_date)\n",
    "# print(\"first day of the first full week:\", first_monday)\n",
    "# df = df[df['date'] >= first_monday]\n",
    "# cols = ['date', 'store_item', 'store', 'item'] + [c for c in df.columns \n",
    "#                                   if c not in ('date', 'store_item', 'store_nbr', 'item_nbr')]\n",
    "# df = df[cols]\n",
    "# df = df.sort_values(by=['date', 'store_item'])\n",
    "# df = df.reset_index(drop=True)\n",
    "# len(df)"
   ]
  },
  {
   "cell_type": "code",
   "execution_count": 7,
   "id": "17151549",
   "metadata": {},
   "outputs": [
    {
     "data": {
      "text/html": [
       "<div>\n",
       "<style scoped>\n",
       "    .dataframe tbody tr th:only-of-type {\n",
       "        vertical-align: middle;\n",
       "    }\n",
       "\n",
       "    .dataframe tbody tr th {\n",
       "        vertical-align: top;\n",
       "    }\n",
       "\n",
       "    .dataframe thead th {\n",
       "        text-align: right;\n",
       "    }\n",
       "</style>\n",
       "<table border=\"1\" class=\"dataframe\">\n",
       "  <thead>\n",
       "    <tr style=\"text-align: right;\">\n",
       "      <th></th>\n",
       "      <th>date</th>\n",
       "      <th>store_item</th>\n",
       "      <th>store</th>\n",
       "      <th>item</th>\n",
       "      <th>id</th>\n",
       "      <th>store</th>\n",
       "      <th>item</th>\n",
       "      <th>unit_sales</th>\n",
       "      <th>onpromotion</th>\n",
       "    </tr>\n",
       "  </thead>\n",
       "  <tbody>\n",
       "    <tr>\n",
       "      <th>0</th>\n",
       "      <td>2013-01-07</td>\n",
       "      <td>10_1003679</td>\n",
       "      <td>10</td>\n",
       "      <td>1003679</td>\n",
       "      <td>216580</td>\n",
       "      <td>10</td>\n",
       "      <td>1003679</td>\n",
       "      <td>3.000</td>\n",
       "      <td>NaN</td>\n",
       "    </tr>\n",
       "    <tr>\n",
       "      <th>1</th>\n",
       "      <td>2013-01-07</td>\n",
       "      <td>10_1009512</td>\n",
       "      <td>10</td>\n",
       "      <td>1009512</td>\n",
       "      <td>216581</td>\n",
       "      <td>10</td>\n",
       "      <td>1009512</td>\n",
       "      <td>1.000</td>\n",
       "      <td>NaN</td>\n",
       "    </tr>\n",
       "    <tr>\n",
       "      <th>2</th>\n",
       "      <td>2013-01-07</td>\n",
       "      <td>10_1012473</td>\n",
       "      <td>10</td>\n",
       "      <td>1012473</td>\n",
       "      <td>216582</td>\n",
       "      <td>10</td>\n",
       "      <td>1012473</td>\n",
       "      <td>25.000</td>\n",
       "      <td>NaN</td>\n",
       "    </tr>\n",
       "    <tr>\n",
       "      <th>3</th>\n",
       "      <td>2013-01-07</td>\n",
       "      <td>10_1012788</td>\n",
       "      <td>10</td>\n",
       "      <td>1012788</td>\n",
       "      <td>216583</td>\n",
       "      <td>10</td>\n",
       "      <td>1012788</td>\n",
       "      <td>2.000</td>\n",
       "      <td>NaN</td>\n",
       "    </tr>\n",
       "    <tr>\n",
       "      <th>4</th>\n",
       "      <td>2013-01-07</td>\n",
       "      <td>10_1017349</td>\n",
       "      <td>10</td>\n",
       "      <td>1017349</td>\n",
       "      <td>216584</td>\n",
       "      <td>10</td>\n",
       "      <td>1017349</td>\n",
       "      <td>8.494</td>\n",
       "      <td>NaN</td>\n",
       "    </tr>\n",
       "  </tbody>\n",
       "</table>\n",
       "</div>"
      ],
      "text/plain": [
       "        date  store_item  store     item      id  store     item  unit_sales  \\\n",
       "0 2013-01-07  10_1003679     10  1003679  216580     10  1003679       3.000   \n",
       "1 2013-01-07  10_1009512     10  1009512  216581     10  1009512       1.000   \n",
       "2 2013-01-07  10_1012473     10  1012473  216582     10  1012473      25.000   \n",
       "3 2013-01-07  10_1012788     10  1012788  216583     10  1012788       2.000   \n",
       "4 2013-01-07  10_1017349     10  1017349  216584     10  1017349       8.494   \n",
       "\n",
       "  onpromotion  \n",
       "0         NaN  \n",
       "1         NaN  \n",
       "2         NaN  \n",
       "3         NaN  \n",
       "4         NaN  "
      ]
     },
     "execution_count": 7,
     "metadata": {},
     "output_type": "execute_result"
    }
   ],
   "source": [
    "df.head()"
   ]
  },
  {
   "cell_type": "code",
   "execution_count": 8,
   "id": "41855412",
   "metadata": {},
   "outputs": [
    {
     "data": {
      "text/plain": [
       "<DatetimeArray>\n",
       "['2013-01-07 00:00:00', '2013-01-08 00:00:00', '2013-01-09 00:00:00',\n",
       " '2013-01-10 00:00:00', '2013-01-11 00:00:00', '2013-01-12 00:00:00',\n",
       " '2013-01-13 00:00:00', '2013-01-14 00:00:00', '2013-01-15 00:00:00',\n",
       " '2013-01-16 00:00:00',\n",
       " ...\n",
       " '2017-08-06 00:00:00', '2017-08-07 00:00:00', '2017-08-08 00:00:00',\n",
       " '2017-08-09 00:00:00', '2017-08-10 00:00:00', '2017-08-11 00:00:00',\n",
       " '2017-08-12 00:00:00', '2017-08-13 00:00:00', '2017-08-14 00:00:00',\n",
       " '2017-08-15 00:00:00']\n",
       "Length: 1678, dtype: datetime64[ns]"
      ]
     },
     "execution_count": 8,
     "metadata": {},
     "output_type": "execute_result"
    }
   ],
   "source": [
    "df[\"date\"].unique()"
   ]
  },
  {
   "cell_type": "code",
   "execution_count": 11,
   "id": "8307eea8",
   "metadata": {},
   "outputs": [
    {
     "name": "stdout",
     "output_type": "stream",
     "text": [
      "Unique (store, item) pairs: 174678\n"
     ]
    }
   ],
   "source": [
    "print(\"Unique (store, item) pairs:\", df[\"store_item\"].nunique())"
   ]
  },
  {
   "cell_type": "code",
   "execution_count": 9,
   "id": "93438ebc",
   "metadata": {},
   "outputs": [],
   "source": [
    " # Save to a new CSV\n",
    "df.to_csv(\n",
    "    \"../output/data/train_preprocessed.csv\",\n",
    "    index=False\n",
    ")"
   ]
  },
  {
   "cell_type": "markdown",
   "id": "94389e3d",
   "metadata": {},
   "source": [
    "# Preprocessing Test Data"
   ]
  },
  {
   "cell_type": "code",
   "execution_count": 4,
   "id": "fdeb7bbf",
   "metadata": {},
   "outputs": [
    {
     "data": {
      "text/html": [
       "<div>\n",
       "<style scoped>\n",
       "    .dataframe tbody tr th:only-of-type {\n",
       "        vertical-align: middle;\n",
       "    }\n",
       "\n",
       "    .dataframe tbody tr th {\n",
       "        vertical-align: top;\n",
       "    }\n",
       "\n",
       "    .dataframe thead th {\n",
       "        text-align: right;\n",
       "    }\n",
       "</style>\n",
       "<table border=\"1\" class=\"dataframe\">\n",
       "  <thead>\n",
       "    <tr style=\"text-align: right;\">\n",
       "      <th></th>\n",
       "      <th>id</th>\n",
       "      <th>date</th>\n",
       "      <th>store_nbr</th>\n",
       "      <th>item_nbr</th>\n",
       "      <th>onpromotion</th>\n",
       "    </tr>\n",
       "  </thead>\n",
       "  <tbody>\n",
       "    <tr>\n",
       "      <th>0</th>\n",
       "      <td>125497040</td>\n",
       "      <td>2017-08-16</td>\n",
       "      <td>1</td>\n",
       "      <td>96995</td>\n",
       "      <td>0.0</td>\n",
       "    </tr>\n",
       "    <tr>\n",
       "      <th>1</th>\n",
       "      <td>125497041</td>\n",
       "      <td>2017-08-16</td>\n",
       "      <td>1</td>\n",
       "      <td>99197</td>\n",
       "      <td>0.0</td>\n",
       "    </tr>\n",
       "    <tr>\n",
       "      <th>2</th>\n",
       "      <td>125497042</td>\n",
       "      <td>2017-08-16</td>\n",
       "      <td>1</td>\n",
       "      <td>103501</td>\n",
       "      <td>0.0</td>\n",
       "    </tr>\n",
       "    <tr>\n",
       "      <th>3</th>\n",
       "      <td>125497043</td>\n",
       "      <td>2017-08-16</td>\n",
       "      <td>1</td>\n",
       "      <td>103520</td>\n",
       "      <td>0.0</td>\n",
       "    </tr>\n",
       "    <tr>\n",
       "      <th>4</th>\n",
       "      <td>125497044</td>\n",
       "      <td>2017-08-16</td>\n",
       "      <td>1</td>\n",
       "      <td>103665</td>\n",
       "      <td>0.0</td>\n",
       "    </tr>\n",
       "  </tbody>\n",
       "</table>\n",
       "</div>"
      ],
      "text/plain": [
       "          id        date  store_nbr  item_nbr  onpromotion\n",
       "0  125497040  2017-08-16          1     96995          0.0\n",
       "1  125497041  2017-08-16          1     99197          0.0\n",
       "2  125497042  2017-08-16          1    103501          0.0\n",
       "3  125497043  2017-08-16          1    103520          0.0\n",
       "4  125497044  2017-08-16          1    103665          0.0"
      ]
     },
     "execution_count": 4,
     "metadata": {},
     "output_type": "execute_result"
    }
   ],
   "source": [
    "dtype_dict={\"id\":np.uint32,\n",
    "            \"store_nbr\":np.uint8,\n",
    "            \"item_nbr\":np.uint32,\n",
    "            \"onpromotion\":np.float32\n",
    "           }\n",
    "test_df = pd.read_csv(\"../data/test.csv\", dtype=dtype_dict)\n",
    "test_df.head()"
   ]
  },
  {
   "cell_type": "code",
   "execution_count": 5,
   "id": "ad3a6a0b",
   "metadata": {},
   "outputs": [
    {
     "data": {
      "text/plain": [
       "3370464"
      ]
     },
     "execution_count": 5,
     "metadata": {},
     "output_type": "execute_result"
    }
   ],
   "source": [
    "#test_df.drop(\"id\", axis=1, inplace=True)\n",
    "test_df[\"date\"] = pd.to_datetime(test_df[\"date\"])\n",
    "test_df[\"unit_sales\"] = 0\n",
    "test_df.rename(columns={\"item_nbr\":\"item\",\"store_nbr\":\"store\"}, inplace=True)\n",
    "test_df[\"store_item\"] = test_df[\"store\"].astype(str).str.cat(test_df[\"item\"].astype(str), sep=\"_\")\n",
    "len(test_df)"
   ]
  },
  {
   "cell_type": "code",
   "execution_count": 6,
   "id": "9e485f8f",
   "metadata": {},
   "outputs": [
    {
     "data": {
      "text/html": [
       "<div>\n",
       "<style scoped>\n",
       "    .dataframe tbody tr th:only-of-type {\n",
       "        vertical-align: middle;\n",
       "    }\n",
       "\n",
       "    .dataframe tbody tr th {\n",
       "        vertical-align: top;\n",
       "    }\n",
       "\n",
       "    .dataframe thead th {\n",
       "        text-align: right;\n",
       "    }\n",
       "</style>\n",
       "<table border=\"1\" class=\"dataframe\">\n",
       "  <thead>\n",
       "    <tr style=\"text-align: right;\">\n",
       "      <th></th>\n",
       "      <th>id</th>\n",
       "      <th>date</th>\n",
       "      <th>store_item</th>\n",
       "      <th>store</th>\n",
       "      <th>item</th>\n",
       "      <th>onpromotion</th>\n",
       "      <th>unit_sales</th>\n",
       "    </tr>\n",
       "  </thead>\n",
       "  <tbody>\n",
       "    <tr>\n",
       "      <th>0</th>\n",
       "      <td>125533483</td>\n",
       "      <td>2017-08-16</td>\n",
       "      <td>10_1000866</td>\n",
       "      <td>10</td>\n",
       "      <td>1000866</td>\n",
       "      <td>0.0</td>\n",
       "      <td>0</td>\n",
       "    </tr>\n",
       "    <tr>\n",
       "      <th>1</th>\n",
       "      <td>125533484</td>\n",
       "      <td>2017-08-16</td>\n",
       "      <td>10_1001305</td>\n",
       "      <td>10</td>\n",
       "      <td>1001305</td>\n",
       "      <td>0.0</td>\n",
       "      <td>0</td>\n",
       "    </tr>\n",
       "    <tr>\n",
       "      <th>2</th>\n",
       "      <td>125533485</td>\n",
       "      <td>2017-08-16</td>\n",
       "      <td>10_1003679</td>\n",
       "      <td>10</td>\n",
       "      <td>1003679</td>\n",
       "      <td>0.0</td>\n",
       "      <td>0</td>\n",
       "    </tr>\n",
       "    <tr>\n",
       "      <th>3</th>\n",
       "      <td>125533486</td>\n",
       "      <td>2017-08-16</td>\n",
       "      <td>10_1004545</td>\n",
       "      <td>10</td>\n",
       "      <td>1004545</td>\n",
       "      <td>0.0</td>\n",
       "      <td>0</td>\n",
       "    </tr>\n",
       "    <tr>\n",
       "      <th>4</th>\n",
       "      <td>125533487</td>\n",
       "      <td>2017-08-16</td>\n",
       "      <td>10_1004550</td>\n",
       "      <td>10</td>\n",
       "      <td>1004550</td>\n",
       "      <td>1.0</td>\n",
       "      <td>0</td>\n",
       "    </tr>\n",
       "  </tbody>\n",
       "</table>\n",
       "</div>"
      ],
      "text/plain": [
       "          id       date  store_item  store     item  onpromotion  unit_sales\n",
       "0  125533483 2017-08-16  10_1000866     10  1000866          0.0           0\n",
       "1  125533484 2017-08-16  10_1001305     10  1001305          0.0           0\n",
       "2  125533485 2017-08-16  10_1003679     10  1003679          0.0           0\n",
       "3  125533486 2017-08-16  10_1004545     10  1004545          0.0           0\n",
       "4  125533487 2017-08-16  10_1004550     10  1004550          1.0           0"
      ]
     },
     "execution_count": 6,
     "metadata": {},
     "output_type": "execute_result"
    }
   ],
   "source": [
    "cols = ['id','date', 'store_item', 'store', 'item'] + [c for c in test_df.columns \n",
    "                                  if c not in ('id','date', 'store_item', 'store', 'item')]\n",
    "test_df = test_df[cols]\n",
    "test_df = test_df.sort_values(by=['date', 'store_item'])\n",
    "test_df = test_df.reset_index(drop=True)\n",
    "test_df.head(5)"
   ]
  },
  {
   "cell_type": "code",
   "execution_count": 7,
   "id": "4f228364",
   "metadata": {},
   "outputs": [
    {
     "name": "stdout",
     "output_type": "stream",
     "text": [
      "Unique (store, item) pairs: 210654\n"
     ]
    }
   ],
   "source": [
    "print(\"Unique (store, item) pairs:\", test_df[\"store_item\"].nunique())"
   ]
  },
  {
   "cell_type": "code",
   "execution_count": 8,
   "id": "817a4eff",
   "metadata": {},
   "outputs": [],
   "source": [
    "test_df.to_csv(\n",
    "    \"../output/data/20250530_test_preprocessed.csv\",\n",
    "    index=False\n",
    ")"
   ]
  },
  {
   "cell_type": "code",
   "execution_count": 17,
   "id": "3b6e4994",
   "metadata": {},
   "outputs": [
    {
     "data": {
      "text/html": [
       "<div>\n",
       "<style scoped>\n",
       "    .dataframe tbody tr th:only-of-type {\n",
       "        vertical-align: middle;\n",
       "    }\n",
       "\n",
       "    .dataframe tbody tr th {\n",
       "        vertical-align: top;\n",
       "    }\n",
       "\n",
       "    .dataframe thead th {\n",
       "        text-align: right;\n",
       "    }\n",
       "</style>\n",
       "<table border=\"1\" class=\"dataframe\">\n",
       "  <thead>\n",
       "    <tr style=\"text-align: right;\">\n",
       "      <th></th>\n",
       "      <th>item_nbr</th>\n",
       "      <th>family</th>\n",
       "      <th>class</th>\n",
       "      <th>perishable</th>\n",
       "      <th>item</th>\n",
       "    </tr>\n",
       "  </thead>\n",
       "  <tbody>\n",
       "    <tr>\n",
       "      <th>0</th>\n",
       "      <td>96995</td>\n",
       "      <td>GROCERY I</td>\n",
       "      <td>1093</td>\n",
       "      <td>0</td>\n",
       "      <td>96995</td>\n",
       "    </tr>\n",
       "    <tr>\n",
       "      <th>1</th>\n",
       "      <td>99197</td>\n",
       "      <td>GROCERY I</td>\n",
       "      <td>1067</td>\n",
       "      <td>0</td>\n",
       "      <td>99197</td>\n",
       "    </tr>\n",
       "    <tr>\n",
       "      <th>2</th>\n",
       "      <td>103501</td>\n",
       "      <td>CLEANING</td>\n",
       "      <td>3008</td>\n",
       "      <td>0</td>\n",
       "      <td>103501</td>\n",
       "    </tr>\n",
       "    <tr>\n",
       "      <th>3</th>\n",
       "      <td>103520</td>\n",
       "      <td>GROCERY I</td>\n",
       "      <td>1028</td>\n",
       "      <td>0</td>\n",
       "      <td>103520</td>\n",
       "    </tr>\n",
       "    <tr>\n",
       "      <th>4</th>\n",
       "      <td>103665</td>\n",
       "      <td>BREAD/BAKERY</td>\n",
       "      <td>2712</td>\n",
       "      <td>1</td>\n",
       "      <td>103665</td>\n",
       "    </tr>\n",
       "  </tbody>\n",
       "</table>\n",
       "</div>"
      ],
      "text/plain": [
       "   item_nbr        family  class  perishable    item\n",
       "0     96995     GROCERY I   1093           0   96995\n",
       "1     99197     GROCERY I   1067           0   99197\n",
       "2    103501      CLEANING   3008           0  103501\n",
       "3    103520     GROCERY I   1028           0  103520\n",
       "4    103665  BREAD/BAKERY   2712           1  103665"
      ]
     },
     "execution_count": 17,
     "metadata": {},
     "output_type": "execute_result"
    }
   ],
   "source": [
    "item_df = pd.read_csv(\"../data/items.csv\")\n",
    "item_df[\"item\"] = item_df[\"item_nbr\"]\n",
    "item_df.head()\n"
   ]
  },
  {
   "cell_type": "code",
   "execution_count": 18,
   "id": "1d3488b0",
   "metadata": {},
   "outputs": [
    {
     "data": {
      "text/html": [
       "<div>\n",
       "<style scoped>\n",
       "    .dataframe tbody tr th:only-of-type {\n",
       "        vertical-align: middle;\n",
       "    }\n",
       "\n",
       "    .dataframe tbody tr th {\n",
       "        vertical-align: top;\n",
       "    }\n",
       "\n",
       "    .dataframe thead th {\n",
       "        text-align: right;\n",
       "    }\n",
       "</style>\n",
       "<table border=\"1\" class=\"dataframe\">\n",
       "  <thead>\n",
       "    <tr style=\"text-align: right;\">\n",
       "      <th></th>\n",
       "      <th>item</th>\n",
       "      <th>weight</th>\n",
       "    </tr>\n",
       "  </thead>\n",
       "  <tbody>\n",
       "    <tr>\n",
       "      <th>0</th>\n",
       "      <td>96995</td>\n",
       "      <td>1.00</td>\n",
       "    </tr>\n",
       "    <tr>\n",
       "      <th>1</th>\n",
       "      <td>99197</td>\n",
       "      <td>1.00</td>\n",
       "    </tr>\n",
       "    <tr>\n",
       "      <th>2</th>\n",
       "      <td>103501</td>\n",
       "      <td>1.00</td>\n",
       "    </tr>\n",
       "    <tr>\n",
       "      <th>3</th>\n",
       "      <td>103520</td>\n",
       "      <td>1.00</td>\n",
       "    </tr>\n",
       "    <tr>\n",
       "      <th>4</th>\n",
       "      <td>103665</td>\n",
       "      <td>1.25</td>\n",
       "    </tr>\n",
       "  </tbody>\n",
       "</table>\n",
       "</div>"
      ],
      "text/plain": [
       "     item  weight\n",
       "0   96995    1.00\n",
       "1   99197    1.00\n",
       "2  103501    1.00\n",
       "3  103520    1.00\n",
       "4  103665    1.25"
      ]
     },
     "execution_count": 18,
     "metadata": {},
     "output_type": "execute_result"
    }
   ],
   "source": [
    "w_perish = (\n",
    "    item_df\n",
    "      .query(\"perishable == 1\")[[\"item\"]]\n",
    "      .assign(weight=1.25)\n",
    ")\n",
    "\n",
    "# build the “non‑perishable” weights:\n",
    "w_non    = (\n",
    "    item_df\n",
    "      .query(\"perishable == 0\")[[\"item\"]]\n",
    "      .assign(weight=1.00)\n",
    ")\n",
    "\n",
    "# concatenate and reset index:\n",
    "weights_df = pd.concat([w_perish, w_non], ignore_index=True)\n",
    "\n",
    "# if you want to preserve original order:\n",
    "weights_df = (\n",
    "    item_df[['item']]\n",
    "      .merge(weights_df, on='item')\n",
    ")\n",
    "\n",
    "weights_df.head()"
   ]
  },
  {
   "cell_type": "code",
   "execution_count": 19,
   "id": "0b28f7d2",
   "metadata": {},
   "outputs": [],
   "source": [
    "weights_df.to_csv(\n",
    "    \"../output/data/item_weights.csv\",\n",
    "    index=False\n",
    ")"
   ]
  },
  {
   "cell_type": "code",
   "execution_count": null,
   "id": "7b022445",
   "metadata": {},
   "outputs": [],
   "source": []
  }
 ],
 "metadata": {
  "kernelspec": {
   "display_name": "interviews",
   "language": "python",
   "name": "python3"
  },
  "language_info": {
   "codemirror_mode": {
    "name": "ipython",
    "version": 3
   },
   "file_extension": ".py",
   "mimetype": "text/x-python",
   "name": "python",
   "nbconvert_exporter": "python",
   "pygments_lexer": "ipython3",
   "version": "3.12.9"
  }
 },
 "nbformat": 4,
 "nbformat_minor": 5
}
