{
 "cells": [
  {
   "cell_type": "code",
   "execution_count": 2,
   "id": "ae3b7b28",
   "metadata": {},
   "outputs": [],
   "source": [
    "import pandas as pd\n",
    "import numpy as np"
   ]
  },
  {
   "cell_type": "code",
   "execution_count": 3,
   "id": "acd67b88",
   "metadata": {},
   "outputs": [
    {
     "data": {
      "text/plain": [
       "'/Users/yvesgreatti/github/kaggle_favorita_grocery_sales_forecasting/notebook'"
      ]
     },
     "execution_count": 3,
     "metadata": {},
     "output_type": "execute_result"
    }
   ],
   "source": [
    "%pwd"
   ]
  },
  {
   "cell_type": "code",
   "execution_count": 4,
   "id": "b9efbcfa",
   "metadata": {},
   "outputs": [
    {
     "name": "stderr",
     "output_type": "stream",
     "text": [
      "/var/folders/w3/d06m5l_97yn4bnxd5t6cgbjr0000gn/T/ipykernel_90234/2401172864.py:6: DtypeWarning: Columns (5) have mixed types. Specify dtype option on import or set low_memory=False.\n",
      "  df = pd.read_csv(\"../data/train.csv\",dtype=dtype_dict)\n"
     ]
    }
   ],
   "source": [
    "dtype_dict={\"id\":np.uint32,\n",
    "            \"store_nbr\":np.uint8,\n",
    "            \"item_nbr\":np.uint32,\n",
    "            \"unit_sales\":np.float32\n",
    "           }\n",
    "df = pd.read_csv(\"../data/train.csv\",dtype=dtype_dict)\n"
   ]
  },
  {
   "cell_type": "code",
   "execution_count": 5,
   "id": "520e9316",
   "metadata": {},
   "outputs": [
    {
     "data": {
      "text/plain": [
       "125497040"
      ]
     },
     "execution_count": 5,
     "metadata": {},
     "output_type": "execute_result"
    }
   ],
   "source": [
    "len(df)"
   ]
  },
  {
   "cell_type": "code",
   "execution_count": 6,
   "id": "4f3c7225",
   "metadata": {},
   "outputs": [
    {
     "name": "stdout",
     "output_type": "stream",
     "text": [
      "min_date: 2013-01-01 00:00:00\n",
      "first day of the first full week: 2013-01-07 00:00:00\n"
     ]
    },
    {
     "data": {
      "text/plain": [
       "125290231"
      ]
     },
     "execution_count": 6,
     "metadata": {},
     "output_type": "execute_result"
    }
   ],
   "source": [
    "df[\"date\"] = pd.to_datetime(df[\"date\"])\n",
    "df[\"unit_sales\"] = df[\"unit_sales\"].fillna(0)\n",
    "df['unit_sales'] = df['unit_sales'].clip(lower=0)\n",
    "df.rename(columns={\"item_nbr\":\"item\",\"store_nbr\":\"store\"}, inplace=True)\n",
    "df[\"store_item\"] = df[\"store\"].astype(str).str.cat(df[\"item\"].astype(str), sep=\"_\")\n",
    "\n",
    "# assume df[\"date\"] is datetime64[ns]\n",
    "min_date = df[\"date\"].min()\n",
    "\n",
    "# compute the Monday of the week containing min_date\n",
    "week_start = min_date - pd.Timedelta(days=min_date.weekday())\n",
    "week_start\n",
    "#if min_date is already a Monday, keep that; otherwise bump to next week’s Monday\n",
    "if min_date.weekday() == 0:\n",
    "    first_monday = week_start\n",
    "else:\n",
    "    first_monday = week_start + pd.Timedelta(days=7)\n",
    "\n",
    "print(\"min_date:\", min_date)\n",
    "print(\"first day of the first full week:\", first_monday)\n",
    "df = df[df['date'] >= first_monday]\n",
    "cols = ['date', 'store_item', 'store', 'item'] + [c for c in df.columns \n",
    "                                  if c not in ('date', 'store_item', 'store_nbr', 'item_nbr')]\n",
    "df = df[cols]\n",
    "df = df.sort_values(by=['date', 'store_item'])\n",
    "df = df.reset_index(drop=True)\n",
    "len(df)"
   ]
  },
  {
   "cell_type": "code",
   "execution_count": 7,
   "id": "17151549",
   "metadata": {},
   "outputs": [
    {
     "data": {
      "text/html": [
       "<div>\n",
       "<style scoped>\n",
       "    .dataframe tbody tr th:only-of-type {\n",
       "        vertical-align: middle;\n",
       "    }\n",
       "\n",
       "    .dataframe tbody tr th {\n",
       "        vertical-align: top;\n",
       "    }\n",
       "\n",
       "    .dataframe thead th {\n",
       "        text-align: right;\n",
       "    }\n",
       "</style>\n",
       "<table border=\"1\" class=\"dataframe\">\n",
       "  <thead>\n",
       "    <tr style=\"text-align: right;\">\n",
       "      <th></th>\n",
       "      <th>date</th>\n",
       "      <th>store_item</th>\n",
       "      <th>store</th>\n",
       "      <th>item</th>\n",
       "      <th>id</th>\n",
       "      <th>store</th>\n",
       "      <th>item</th>\n",
       "      <th>unit_sales</th>\n",
       "      <th>onpromotion</th>\n",
       "    </tr>\n",
       "  </thead>\n",
       "  <tbody>\n",
       "    <tr>\n",
       "      <th>0</th>\n",
       "      <td>2013-01-07</td>\n",
       "      <td>10_1003679</td>\n",
       "      <td>10</td>\n",
       "      <td>1003679</td>\n",
       "      <td>216580</td>\n",
       "      <td>10</td>\n",
       "      <td>1003679</td>\n",
       "      <td>3.000</td>\n",
       "      <td>NaN</td>\n",
       "    </tr>\n",
       "    <tr>\n",
       "      <th>1</th>\n",
       "      <td>2013-01-07</td>\n",
       "      <td>10_1009512</td>\n",
       "      <td>10</td>\n",
       "      <td>1009512</td>\n",
       "      <td>216581</td>\n",
       "      <td>10</td>\n",
       "      <td>1009512</td>\n",
       "      <td>1.000</td>\n",
       "      <td>NaN</td>\n",
       "    </tr>\n",
       "    <tr>\n",
       "      <th>2</th>\n",
       "      <td>2013-01-07</td>\n",
       "      <td>10_1012473</td>\n",
       "      <td>10</td>\n",
       "      <td>1012473</td>\n",
       "      <td>216582</td>\n",
       "      <td>10</td>\n",
       "      <td>1012473</td>\n",
       "      <td>25.000</td>\n",
       "      <td>NaN</td>\n",
       "    </tr>\n",
       "    <tr>\n",
       "      <th>3</th>\n",
       "      <td>2013-01-07</td>\n",
       "      <td>10_1012788</td>\n",
       "      <td>10</td>\n",
       "      <td>1012788</td>\n",
       "      <td>216583</td>\n",
       "      <td>10</td>\n",
       "      <td>1012788</td>\n",
       "      <td>2.000</td>\n",
       "      <td>NaN</td>\n",
       "    </tr>\n",
       "    <tr>\n",
       "      <th>4</th>\n",
       "      <td>2013-01-07</td>\n",
       "      <td>10_1017349</td>\n",
       "      <td>10</td>\n",
       "      <td>1017349</td>\n",
       "      <td>216584</td>\n",
       "      <td>10</td>\n",
       "      <td>1017349</td>\n",
       "      <td>8.494</td>\n",
       "      <td>NaN</td>\n",
       "    </tr>\n",
       "  </tbody>\n",
       "</table>\n",
       "</div>"
      ],
      "text/plain": [
       "        date  store_item  store     item      id  store     item  unit_sales  \\\n",
       "0 2013-01-07  10_1003679     10  1003679  216580     10  1003679       3.000   \n",
       "1 2013-01-07  10_1009512     10  1009512  216581     10  1009512       1.000   \n",
       "2 2013-01-07  10_1012473     10  1012473  216582     10  1012473      25.000   \n",
       "3 2013-01-07  10_1012788     10  1012788  216583     10  1012788       2.000   \n",
       "4 2013-01-07  10_1017349     10  1017349  216584     10  1017349       8.494   \n",
       "\n",
       "  onpromotion  \n",
       "0         NaN  \n",
       "1         NaN  \n",
       "2         NaN  \n",
       "3         NaN  \n",
       "4         NaN  "
      ]
     },
     "execution_count": 7,
     "metadata": {},
     "output_type": "execute_result"
    }
   ],
   "source": [
    "df.head()"
   ]
  },
  {
   "cell_type": "code",
   "execution_count": 8,
   "id": "41855412",
   "metadata": {},
   "outputs": [
    {
     "data": {
      "text/plain": [
       "<DatetimeArray>\n",
       "['2013-01-07 00:00:00', '2013-01-08 00:00:00', '2013-01-09 00:00:00',\n",
       " '2013-01-10 00:00:00', '2013-01-11 00:00:00', '2013-01-12 00:00:00',\n",
       " '2013-01-13 00:00:00', '2013-01-14 00:00:00', '2013-01-15 00:00:00',\n",
       " '2013-01-16 00:00:00',\n",
       " ...\n",
       " '2017-08-06 00:00:00', '2017-08-07 00:00:00', '2017-08-08 00:00:00',\n",
       " '2017-08-09 00:00:00', '2017-08-10 00:00:00', '2017-08-11 00:00:00',\n",
       " '2017-08-12 00:00:00', '2017-08-13 00:00:00', '2017-08-14 00:00:00',\n",
       " '2017-08-15 00:00:00']\n",
       "Length: 1678, dtype: datetime64[ns]"
      ]
     },
     "execution_count": 8,
     "metadata": {},
     "output_type": "execute_result"
    }
   ],
   "source": [
    "df[\"date\"].unique()"
   ]
  },
  {
   "cell_type": "code",
   "execution_count": 11,
   "id": "8307eea8",
   "metadata": {},
   "outputs": [
    {
     "name": "stdout",
     "output_type": "stream",
     "text": [
      "Unique (store, item) pairs: 174678\n"
     ]
    }
   ],
   "source": [
    "print(\"Unique (store, item) pairs:\", df[\"store_item\"].nunique())"
   ]
  },
  {
   "cell_type": "code",
   "execution_count": 9,
   "id": "93438ebc",
   "metadata": {},
   "outputs": [],
   "source": [
    " # Save to a new CSV\n",
    "df.to_csv(\n",
    "    \"../output/data/train_preprocessed.csv\",\n",
    "    index=False\n",
    ")"
   ]
  },
  {
   "cell_type": "markdown",
   "id": "94389e3d",
   "metadata": {},
   "source": [
    "# Preprocessing Test Data"
   ]
  },
  {
   "cell_type": "code",
   "execution_count": 4,
   "id": "fdeb7bbf",
   "metadata": {},
   "outputs": [
    {
     "data": {
      "text/html": [
       "<div>\n",
       "<style scoped>\n",
       "    .dataframe tbody tr th:only-of-type {\n",
       "        vertical-align: middle;\n",
       "    }\n",
       "\n",
       "    .dataframe tbody tr th {\n",
       "        vertical-align: top;\n",
       "    }\n",
       "\n",
       "    .dataframe thead th {\n",
       "        text-align: right;\n",
       "    }\n",
       "</style>\n",
       "<table border=\"1\" class=\"dataframe\">\n",
       "  <thead>\n",
       "    <tr style=\"text-align: right;\">\n",
       "      <th></th>\n",
       "      <th>id</th>\n",
       "      <th>date</th>\n",
       "      <th>store_nbr</th>\n",
       "      <th>item_nbr</th>\n",
       "      <th>onpromotion</th>\n",
       "    </tr>\n",
       "  </thead>\n",
       "  <tbody>\n",
       "    <tr>\n",
       "      <th>0</th>\n",
       "      <td>125497040</td>\n",
       "      <td>2017-08-16</td>\n",
       "      <td>1</td>\n",
       "      <td>96995</td>\n",
       "      <td>0.0</td>\n",
       "    </tr>\n",
       "    <tr>\n",
       "      <th>1</th>\n",
       "      <td>125497041</td>\n",
       "      <td>2017-08-16</td>\n",
       "      <td>1</td>\n",
       "      <td>99197</td>\n",
       "      <td>0.0</td>\n",
       "    </tr>\n",
       "    <tr>\n",
       "      <th>2</th>\n",
       "      <td>125497042</td>\n",
       "      <td>2017-08-16</td>\n",
       "      <td>1</td>\n",
       "      <td>103501</td>\n",
       "      <td>0.0</td>\n",
       "    </tr>\n",
       "    <tr>\n",
       "      <th>3</th>\n",
       "      <td>125497043</td>\n",
       "      <td>2017-08-16</td>\n",
       "      <td>1</td>\n",
       "      <td>103520</td>\n",
       "      <td>0.0</td>\n",
       "    </tr>\n",
       "    <tr>\n",
       "      <th>4</th>\n",
       "      <td>125497044</td>\n",
       "      <td>2017-08-16</td>\n",
       "      <td>1</td>\n",
       "      <td>103665</td>\n",
       "      <td>0.0</td>\n",
       "    </tr>\n",
       "  </tbody>\n",
       "</table>\n",
       "</div>"
      ],
      "text/plain": [
       "          id        date  store_nbr  item_nbr  onpromotion\n",
       "0  125497040  2017-08-16          1     96995          0.0\n",
       "1  125497041  2017-08-16          1     99197          0.0\n",
       "2  125497042  2017-08-16          1    103501          0.0\n",
       "3  125497043  2017-08-16          1    103520          0.0\n",
       "4  125497044  2017-08-16          1    103665          0.0"
      ]
     },
     "execution_count": 4,
     "metadata": {},
     "output_type": "execute_result"
    }
   ],
   "source": [
    "dtype_dict={\"id\":np.uint32,\n",
    "            \"store_nbr\":np.uint8,\n",
    "            \"item_nbr\":np.uint32,\n",
    "            \"onpromotion\":np.float32\n",
    "           }\n",
    "test_df = pd.read_csv(\"../data/test.csv\", dtype=dtype_dict)\n",
    "test_df.head()"
   ]
  },
  {
   "cell_type": "code",
   "execution_count": 5,
   "id": "ad3a6a0b",
   "metadata": {},
   "outputs": [
    {
     "data": {
      "text/plain": [
       "3370464"
      ]
     },
     "execution_count": 5,
     "metadata": {},
     "output_type": "execute_result"
    }
   ],
   "source": [
    "#test_df.drop(\"id\", axis=1, inplace=True)\n",
    "test_df[\"date\"] = pd.to_datetime(test_df[\"date\"])\n",
    "test_df[\"unit_sales\"] = 0\n",
    "test_df.rename(columns={\"item_nbr\":\"item\",\"store_nbr\":\"store\"}, inplace=True)\n",
    "test_df[\"store_item\"] = test_df[\"store\"].astype(str).str.cat(test_df[\"item\"].astype(str), sep=\"_\")\n",
    "len(test_df)"
   ]
  },
  {
   "cell_type": "code",
   "execution_count": 6,
   "id": "9e485f8f",
   "metadata": {},
   "outputs": [
    {
     "data": {
      "text/html": [
       "<div>\n",
       "<style scoped>\n",
       "    .dataframe tbody tr th:only-of-type {\n",
       "        vertical-align: middle;\n",
       "    }\n",
       "\n",
       "    .dataframe tbody tr th {\n",
       "        vertical-align: top;\n",
       "    }\n",
       "\n",
       "    .dataframe thead th {\n",
       "        text-align: right;\n",
       "    }\n",
       "</style>\n",
       "<table border=\"1\" class=\"dataframe\">\n",
       "  <thead>\n",
       "    <tr style=\"text-align: right;\">\n",
       "      <th></th>\n",
       "      <th>id</th>\n",
       "      <th>date</th>\n",
       "      <th>store_item</th>\n",
       "      <th>store</th>\n",
       "      <th>item</th>\n",
       "      <th>onpromotion</th>\n",
       "      <th>unit_sales</th>\n",
       "    </tr>\n",
       "  </thead>\n",
       "  <tbody>\n",
       "    <tr>\n",
       "      <th>0</th>\n",
       "      <td>125533483</td>\n",
       "      <td>2017-08-16</td>\n",
       "      <td>10_1000866</td>\n",
       "      <td>10</td>\n",
       "      <td>1000866</td>\n",
       "      <td>0.0</td>\n",
       "      <td>0</td>\n",
       "    </tr>\n",
       "    <tr>\n",
       "      <th>1</th>\n",
       "      <td>125533484</td>\n",
       "      <td>2017-08-16</td>\n",
       "      <td>10_1001305</td>\n",
       "      <td>10</td>\n",
       "      <td>1001305</td>\n",
       "      <td>0.0</td>\n",
       "      <td>0</td>\n",
       "    </tr>\n",
       "    <tr>\n",
       "      <th>2</th>\n",
       "      <td>125533485</td>\n",
       "      <td>2017-08-16</td>\n",
       "      <td>10_1003679</td>\n",
       "      <td>10</td>\n",
       "      <td>1003679</td>\n",
       "      <td>0.0</td>\n",
       "      <td>0</td>\n",
       "    </tr>\n",
       "    <tr>\n",
       "      <th>3</th>\n",
       "      <td>125533486</td>\n",
       "      <td>2017-08-16</td>\n",
       "      <td>10_1004545</td>\n",
       "      <td>10</td>\n",
       "      <td>1004545</td>\n",
       "      <td>0.0</td>\n",
       "      <td>0</td>\n",
       "    </tr>\n",
       "    <tr>\n",
       "      <th>4</th>\n",
       "      <td>125533487</td>\n",
       "      <td>2017-08-16</td>\n",
       "      <td>10_1004550</td>\n",
       "      <td>10</td>\n",
       "      <td>1004550</td>\n",
       "      <td>1.0</td>\n",
       "      <td>0</td>\n",
       "    </tr>\n",
       "  </tbody>\n",
       "</table>\n",
       "</div>"
      ],
      "text/plain": [
       "          id       date  store_item  store     item  onpromotion  unit_sales\n",
       "0  125533483 2017-08-16  10_1000866     10  1000866          0.0           0\n",
       "1  125533484 2017-08-16  10_1001305     10  1001305          0.0           0\n",
       "2  125533485 2017-08-16  10_1003679     10  1003679          0.0           0\n",
       "3  125533486 2017-08-16  10_1004545     10  1004545          0.0           0\n",
       "4  125533487 2017-08-16  10_1004550     10  1004550          1.0           0"
      ]
     },
     "execution_count": 6,
     "metadata": {},
     "output_type": "execute_result"
    }
   ],
   "source": [
    "cols = ['id','date', 'store_item', 'store', 'item'] + [c for c in test_df.columns \n",
    "                                  if c not in ('id','date', 'store_item', 'store', 'item')]\n",
    "test_df = test_df[cols]\n",
    "test_df = test_df.sort_values(by=['date', 'store_item'])\n",
    "test_df = test_df.reset_index(drop=True)\n",
    "test_df.head(5)"
   ]
  },
  {
   "cell_type": "code",
   "execution_count": 7,
   "id": "4f228364",
   "metadata": {},
   "outputs": [
    {
     "name": "stdout",
     "output_type": "stream",
     "text": [
      "Unique (store, item) pairs: 210654\n"
     ]
    }
   ],
   "source": [
    "print(\"Unique (store, item) pairs:\", test_df[\"store_item\"].nunique())"
   ]
  },
  {
   "cell_type": "code",
   "execution_count": 8,
   "id": "817a4eff",
   "metadata": {},
   "outputs": [],
   "source": [
    "test_df.to_csv(\n",
    "    \"../output/data/20250530_test_preprocessed.csv\",\n",
    "    index=False\n",
    ")"
   ]
  },
  {
   "cell_type": "code",
   "execution_count": 17,
   "id": "3b6e4994",
   "metadata": {},
   "outputs": [
    {
     "data": {
      "text/html": [
       "<div>\n",
       "<style scoped>\n",
       "    .dataframe tbody tr th:only-of-type {\n",
       "        vertical-align: middle;\n",
       "    }\n",
       "\n",
       "    .dataframe tbody tr th {\n",
       "        vertical-align: top;\n",
       "    }\n",
       "\n",
       "    .dataframe thead th {\n",
       "        text-align: right;\n",
       "    }\n",
       "</style>\n",
       "<table border=\"1\" class=\"dataframe\">\n",
       "  <thead>\n",
       "    <tr style=\"text-align: right;\">\n",
       "      <th></th>\n",
       "      <th>item_nbr</th>\n",
       "      <th>family</th>\n",
       "      <th>class</th>\n",
       "      <th>perishable</th>\n",
       "      <th>item</th>\n",
       "    </tr>\n",
       "  </thead>\n",
       "  <tbody>\n",
       "    <tr>\n",
       "      <th>0</th>\n",
       "      <td>96995</td>\n",
       "      <td>GROCERY I</td>\n",
       "      <td>1093</td>\n",
       "      <td>0</td>\n",
       "      <td>96995</td>\n",
       "    </tr>\n",
       "    <tr>\n",
       "      <th>1</th>\n",
       "      <td>99197</td>\n",
       "      <td>GROCERY I</td>\n",
       "      <td>1067</td>\n",
       "      <td>0</td>\n",
       "      <td>99197</td>\n",
       "    </tr>\n",
       "    <tr>\n",
       "      <th>2</th>\n",
       "      <td>103501</td>\n",
       "      <td>CLEANING</td>\n",
       "      <td>3008</td>\n",
       "      <td>0</td>\n",
       "      <td>103501</td>\n",
       "    </tr>\n",
       "    <tr>\n",
       "      <th>3</th>\n",
       "      <td>103520</td>\n",
       "      <td>GROCERY I</td>\n",
       "      <td>1028</td>\n",
       "      <td>0</td>\n",
       "      <td>103520</td>\n",
       "    </tr>\n",
       "    <tr>\n",
       "      <th>4</th>\n",
       "      <td>103665</td>\n",
       "      <td>BREAD/BAKERY</td>\n",
       "      <td>2712</td>\n",
       "      <td>1</td>\n",
       "      <td>103665</td>\n",
       "    </tr>\n",
       "  </tbody>\n",
       "</table>\n",
       "</div>"
      ],
      "text/plain": [
       "   item_nbr        family  class  perishable    item\n",
       "0     96995     GROCERY I   1093           0   96995\n",
       "1     99197     GROCERY I   1067           0   99197\n",
       "2    103501      CLEANING   3008           0  103501\n",
       "3    103520     GROCERY I   1028           0  103520\n",
       "4    103665  BREAD/BAKERY   2712           1  103665"
      ]
     },
     "execution_count": 17,
     "metadata": {},
     "output_type": "execute_result"
    }
   ],
   "source": [
    "item_df = pd.read_csv(\"../data/items.csv\")\n",
    "item_df[\"item\"] = item_df[\"item_nbr\"]\n",
    "item_df.head()\n"
   ]
  },
  {
   "cell_type": "code",
   "execution_count": 18,
   "id": "1d3488b0",
   "metadata": {},
   "outputs": [
    {
     "data": {
      "text/html": [
       "<div>\n",
       "<style scoped>\n",
       "    .dataframe tbody tr th:only-of-type {\n",
       "        vertical-align: middle;\n",
       "    }\n",
       "\n",
       "    .dataframe tbody tr th {\n",
       "        vertical-align: top;\n",
       "    }\n",
       "\n",
       "    .dataframe thead th {\n",
       "        text-align: right;\n",
       "    }\n",
       "</style>\n",
       "<table border=\"1\" class=\"dataframe\">\n",
       "  <thead>\n",
       "    <tr style=\"text-align: right;\">\n",
       "      <th></th>\n",
       "      <th>item</th>\n",
       "      <th>weight</th>\n",
       "    </tr>\n",
       "  </thead>\n",
       "  <tbody>\n",
       "    <tr>\n",
       "      <th>0</th>\n",
       "      <td>96995</td>\n",
       "      <td>1.00</td>\n",
       "    </tr>\n",
       "    <tr>\n",
       "      <th>1</th>\n",
       "      <td>99197</td>\n",
       "      <td>1.00</td>\n",
       "    </tr>\n",
       "    <tr>\n",
       "      <th>2</th>\n",
       "      <td>103501</td>\n",
       "      <td>1.00</td>\n",
       "    </tr>\n",
       "    <tr>\n",
       "      <th>3</th>\n",
       "      <td>103520</td>\n",
       "      <td>1.00</td>\n",
       "    </tr>\n",
       "    <tr>\n",
       "      <th>4</th>\n",
       "      <td>103665</td>\n",
       "      <td>1.25</td>\n",
       "    </tr>\n",
       "  </tbody>\n",
       "</table>\n",
       "</div>"
      ],
      "text/plain": [
       "     item  weight\n",
       "0   96995    1.00\n",
       "1   99197    1.00\n",
       "2  103501    1.00\n",
       "3  103520    1.00\n",
       "4  103665    1.25"
      ]
     },
     "execution_count": 18,
     "metadata": {},
     "output_type": "execute_result"
    }
   ],
   "source": [
    "w_perish = (\n",
    "    item_df\n",
    "      .query(\"perishable == 1\")[[\"item\"]]\n",
    "      .assign(weight=1.25)\n",
    ")\n",
    "\n",
    "# build the “non‑perishable” weights:\n",
    "w_non    = (\n",
    "    item_df\n",
    "      .query(\"perishable == 0\")[[\"item\"]]\n",
    "      .assign(weight=1.00)\n",
    ")\n",
    "\n",
    "# concatenate and reset index:\n",
    "weights_df = pd.concat([w_perish, w_non], ignore_index=True)\n",
    "\n",
    "# if you want to preserve original order:\n",
    "weights_df = (\n",
    "    item_df[['item']]\n",
    "      .merge(weights_df, on='item')\n",
    ")\n",
    "\n",
    "weights_df.head()"
   ]
  },
  {
   "cell_type": "code",
   "execution_count": 19,
   "id": "0b28f7d2",
   "metadata": {},
   "outputs": [],
   "source": [
    "weights_df.to_csv(\n",
    "    \"../output/data/item_weights.csv\",\n",
    "    index=False\n",
    ")"
   ]
  },
  {
   "cell_type": "code",
   "execution_count": null,
   "id": "7b022445",
   "metadata": {},
   "outputs": [],
   "source": []
  }
 ],
 "metadata": {
  "kernelspec": {
   "display_name": "interviews",
   "language": "python",
   "name": "python3"
  },
  "language_info": {
   "codemirror_mode": {
    "name": "ipython",
    "version": 3
   },
   "file_extension": ".py",
   "mimetype": "text/x-python",
   "name": "python",
   "nbconvert_exporter": "python",
   "pygments_lexer": "ipython3",
   "version": "3.12.9"
  }
 },
 "nbformat": 4,
 "nbformat_minor": 5
}
