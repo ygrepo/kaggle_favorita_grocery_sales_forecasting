{
 "cells": [
  {
   "cell_type": "code",
   "execution_count": 1,
   "id": "ae3b7b28",
   "metadata": {},
   "outputs": [],
   "source": [
    "import pandas as pd\n",
    "import numpy as np\n",
    "import matplotlib.pyplot as plt"
   ]
  },
  {
   "cell_type": "code",
   "execution_count": 2,
   "id": "acd67b88",
   "metadata": {},
   "outputs": [
    {
     "data": {
      "text/plain": [
       "'/Users/yvesgreatti/github/kaggle_favorita_grocery_sales_forecasting/notebook'"
      ]
     },
     "execution_count": 2,
     "metadata": {},
     "output_type": "execute_result"
    }
   ],
   "source": [
    "%pwd"
   ]
  },
  {
   "cell_type": "code",
   "execution_count": 3,
   "id": "b9efbcfa",
   "metadata": {},
   "outputs": [
    {
     "name": "stderr",
     "output_type": "stream",
     "text": [
      "/var/folders/w3/d06m5l_97yn4bnxd5t6cgbjr0000gn/T/ipykernel_85721/2375169706.py:6: DtypeWarning: Columns (4) have mixed types. Specify dtype option on import or set low_memory=False.\n",
      "  df = pd.read_csv(\"../output/data/train_top_10_store_10_item.csv\", dtype=dtype_dict)\n"
     ]
    }
   ],
   "source": [
    "dtype_dict={\"id\":np.uint32,\n",
    "            \"store_nbr\":np.uint8,\n",
    "            \"item_nbr\":np.uint32,\n",
    "            \"unit_sales\":np.float32\n",
    "           }\n",
    "df = pd.read_csv(\"../output/data/train_top_10_store_10_item.csv\", dtype=dtype_dict)"
   ]
  },
  {
   "cell_type": "code",
   "execution_count": 4,
   "id": "17151549",
   "metadata": {},
   "outputs": [
    {
     "data": {
      "text/html": [
       "<div>\n",
       "<style scoped>\n",
       "    .dataframe tbody tr th:only-of-type {\n",
       "        vertical-align: middle;\n",
       "    }\n",
       "\n",
       "    .dataframe tbody tr th {\n",
       "        vertical-align: top;\n",
       "    }\n",
       "\n",
       "    .dataframe thead th {\n",
       "        text-align: right;\n",
       "    }\n",
       "</style>\n",
       "<table border=\"1\" class=\"dataframe\">\n",
       "  <thead>\n",
       "    <tr style=\"text-align: right;\">\n",
       "      <th></th>\n",
       "      <th>date</th>\n",
       "      <th>store_nbr</th>\n",
       "      <th>item_nbr</th>\n",
       "      <th>unit_sales</th>\n",
       "      <th>onpromotion</th>\n",
       "      <th>store_item</th>\n",
       "    </tr>\n",
       "  </thead>\n",
       "  <tbody>\n",
       "    <tr>\n",
       "      <th>0</th>\n",
       "      <td>2013-01-07</td>\n",
       "      <td>48</td>\n",
       "      <td>502331</td>\n",
       "      <td>70.000000</td>\n",
       "      <td>NaN</td>\n",
       "      <td>48_502331</td>\n",
       "    </tr>\n",
       "    <tr>\n",
       "      <th>1</th>\n",
       "      <td>2013-01-07</td>\n",
       "      <td>48</td>\n",
       "      <td>567623</td>\n",
       "      <td>25.000000</td>\n",
       "      <td>NaN</td>\n",
       "      <td>48_567623</td>\n",
       "    </tr>\n",
       "    <tr>\n",
       "      <th>2</th>\n",
       "      <td>2013-01-07</td>\n",
       "      <td>48</td>\n",
       "      <td>581078</td>\n",
       "      <td>16.000000</td>\n",
       "      <td>NaN</td>\n",
       "      <td>48_581078</td>\n",
       "    </tr>\n",
       "    <tr>\n",
       "      <th>3</th>\n",
       "      <td>2013-01-07</td>\n",
       "      <td>48</td>\n",
       "      <td>582864</td>\n",
       "      <td>63.675999</td>\n",
       "      <td>NaN</td>\n",
       "      <td>48_582864</td>\n",
       "    </tr>\n",
       "    <tr>\n",
       "      <th>4</th>\n",
       "      <td>2013-01-07</td>\n",
       "      <td>49</td>\n",
       "      <td>314384</td>\n",
       "      <td>34.000000</td>\n",
       "      <td>NaN</td>\n",
       "      <td>49_314384</td>\n",
       "    </tr>\n",
       "  </tbody>\n",
       "</table>\n",
       "</div>"
      ],
      "text/plain": [
       "         date  store_nbr  item_nbr  unit_sales onpromotion store_item\n",
       "0  2013-01-07         48    502331   70.000000         NaN  48_502331\n",
       "1  2013-01-07         48    567623   25.000000         NaN  48_567623\n",
       "2  2013-01-07         48    581078   16.000000         NaN  48_581078\n",
       "3  2013-01-07         48    582864   63.675999         NaN  48_582864\n",
       "4  2013-01-07         49    314384   34.000000         NaN  49_314384"
      ]
     },
     "execution_count": 4,
     "metadata": {},
     "output_type": "execute_result"
    }
   ],
   "source": [
    "df.head()"
   ]
  },
  {
   "cell_type": "code",
   "execution_count": 5,
   "id": "a8e08596",
   "metadata": {},
   "outputs": [],
   "source": [
    "df[\"date\"] = pd.to_datetime(df[\"date\"])\n"
   ]
  },
  {
   "cell_type": "code",
   "execution_count": 6,
   "id": "c381895e",
   "metadata": {},
   "outputs": [],
   "source": [
    "df.sort_values([\"date\"], inplace=True)"
   ]
  },
  {
   "cell_type": "code",
   "execution_count": 7,
   "id": "41855412",
   "metadata": {},
   "outputs": [
    {
     "data": {
      "text/plain": [
       "<DatetimeArray>\n",
       "['2013-01-07 00:00:00', '2013-01-08 00:00:00', '2013-01-09 00:00:00',\n",
       " '2013-01-10 00:00:00', '2013-01-11 00:00:00', '2013-01-12 00:00:00',\n",
       " '2013-01-13 00:00:00', '2013-01-14 00:00:00', '2013-01-15 00:00:00',\n",
       " '2013-01-16 00:00:00',\n",
       " ...\n",
       " '2017-08-06 00:00:00', '2017-08-07 00:00:00', '2017-08-08 00:00:00',\n",
       " '2017-08-09 00:00:00', '2017-08-10 00:00:00', '2017-08-11 00:00:00',\n",
       " '2017-08-12 00:00:00', '2017-08-13 00:00:00', '2017-08-14 00:00:00',\n",
       " '2017-08-15 00:00:00']\n",
       "Length: 1674, dtype: datetime64[ns]"
      ]
     },
     "execution_count": 7,
     "metadata": {},
     "output_type": "execute_result"
    }
   ],
   "source": [
    "df[\"date\"].unique()"
   ]
  },
  {
   "cell_type": "code",
   "execution_count": 8,
   "id": "e86adec2",
   "metadata": {},
   "outputs": [],
   "source": [
    "oil = pd.read_csv(\"../data/oil.csv\", parse_dates=['date'])\n"
   ]
  },
  {
   "cell_type": "code",
   "execution_count": 9,
   "id": "93118b8f",
   "metadata": {},
   "outputs": [
    {
     "data": {
      "text/html": [
       "<div>\n",
       "<style scoped>\n",
       "    .dataframe tbody tr th:only-of-type {\n",
       "        vertical-align: middle;\n",
       "    }\n",
       "\n",
       "    .dataframe tbody tr th {\n",
       "        vertical-align: top;\n",
       "    }\n",
       "\n",
       "    .dataframe thead th {\n",
       "        text-align: right;\n",
       "    }\n",
       "</style>\n",
       "<table border=\"1\" class=\"dataframe\">\n",
       "  <thead>\n",
       "    <tr style=\"text-align: right;\">\n",
       "      <th></th>\n",
       "      <th>date</th>\n",
       "      <th>dcoilwtico</th>\n",
       "    </tr>\n",
       "  </thead>\n",
       "  <tbody>\n",
       "    <tr>\n",
       "      <th>0</th>\n",
       "      <td>2013-01-01</td>\n",
       "      <td>NaN</td>\n",
       "    </tr>\n",
       "    <tr>\n",
       "      <th>1</th>\n",
       "      <td>2013-01-02</td>\n",
       "      <td>93.14</td>\n",
       "    </tr>\n",
       "    <tr>\n",
       "      <th>2</th>\n",
       "      <td>2013-01-03</td>\n",
       "      <td>92.97</td>\n",
       "    </tr>\n",
       "    <tr>\n",
       "      <th>3</th>\n",
       "      <td>2013-01-04</td>\n",
       "      <td>93.12</td>\n",
       "    </tr>\n",
       "    <tr>\n",
       "      <th>4</th>\n",
       "      <td>2013-01-07</td>\n",
       "      <td>93.20</td>\n",
       "    </tr>\n",
       "  </tbody>\n",
       "</table>\n",
       "</div>"
      ],
      "text/plain": [
       "        date  dcoilwtico\n",
       "0 2013-01-01         NaN\n",
       "1 2013-01-02       93.14\n",
       "2 2013-01-03       92.97\n",
       "3 2013-01-04       93.12\n",
       "4 2013-01-07       93.20"
      ]
     },
     "execution_count": 9,
     "metadata": {},
     "output_type": "execute_result"
    }
   ],
   "source": [
    "oil.head()"
   ]
  },
  {
   "cell_type": "code",
   "execution_count": 10,
   "id": "f554b517",
   "metadata": {},
   "outputs": [
    {
     "name": "stderr",
     "output_type": "stream",
     "text": [
      "/var/folders/w3/d06m5l_97yn4bnxd5t6cgbjr0000gn/T/ipykernel_85721/677364325.py:2: FutureWarning: Series.fillna with 'method' is deprecated and will raise in a future version. Use obj.ffill() or obj.bfill() instead.\n",
      "  oil['dcoilwtico'] = oil['dcoilwtico'].fillna(method='bfill')\n"
     ]
    },
    {
     "data": {
      "text/plain": [
       "date          0\n",
       "dcoilwtico    0\n",
       "dtype: int64"
      ]
     },
     "execution_count": 10,
     "metadata": {},
     "output_type": "execute_result"
    }
   ],
   "source": [
    "oil['dcoilwtico'] = oil['dcoilwtico'].interpolate()\n",
    "oil['dcoilwtico'] = oil['dcoilwtico'].fillna(method='bfill')\n",
    "oil.isnull().sum()\n"
   ]
  },
  {
   "cell_type": "code",
   "execution_count": 11,
   "id": "2179a1fe",
   "metadata": {},
   "outputs": [
    {
     "data": {
      "text/html": [
       "<div>\n",
       "<style scoped>\n",
       "    .dataframe tbody tr th:only-of-type {\n",
       "        vertical-align: middle;\n",
       "    }\n",
       "\n",
       "    .dataframe tbody tr th {\n",
       "        vertical-align: top;\n",
       "    }\n",
       "\n",
       "    .dataframe thead th {\n",
       "        text-align: right;\n",
       "    }\n",
       "</style>\n",
       "<table border=\"1\" class=\"dataframe\">\n",
       "  <thead>\n",
       "    <tr style=\"text-align: right;\">\n",
       "      <th></th>\n",
       "      <th>date</th>\n",
       "      <th>unit_sales</th>\n",
       "      <th>dcoilwtico</th>\n",
       "    </tr>\n",
       "  </thead>\n",
       "  <tbody>\n",
       "    <tr>\n",
       "      <th>0</th>\n",
       "      <td>2013-01-07</td>\n",
       "      <td>8824.406250</td>\n",
       "      <td>93.20</td>\n",
       "    </tr>\n",
       "    <tr>\n",
       "      <th>1</th>\n",
       "      <td>2013-01-08</td>\n",
       "      <td>7074.680176</td>\n",
       "      <td>93.21</td>\n",
       "    </tr>\n",
       "    <tr>\n",
       "      <th>2</th>\n",
       "      <td>2013-01-09</td>\n",
       "      <td>7137.820801</td>\n",
       "      <td>93.08</td>\n",
       "    </tr>\n",
       "    <tr>\n",
       "      <th>3</th>\n",
       "      <td>2013-01-10</td>\n",
       "      <td>6278.104004</td>\n",
       "      <td>93.81</td>\n",
       "    </tr>\n",
       "    <tr>\n",
       "      <th>4</th>\n",
       "      <td>2013-01-11</td>\n",
       "      <td>7776.372070</td>\n",
       "      <td>93.60</td>\n",
       "    </tr>\n",
       "  </tbody>\n",
       "</table>\n",
       "</div>"
      ],
      "text/plain": [
       "        date   unit_sales  dcoilwtico\n",
       "0 2013-01-07  8824.406250       93.20\n",
       "1 2013-01-08  7074.680176       93.21\n",
       "2 2013-01-09  7137.820801       93.08\n",
       "3 2013-01-10  6278.104004       93.81\n",
       "4 2013-01-11  7776.372070       93.60"
      ]
     },
     "execution_count": 11,
     "metadata": {},
     "output_type": "execute_result"
    }
   ],
   "source": [
    "sales_oil = df.groupby(\"date\")[\"unit_sales\"].sum().reset_index()  # Aggregate daily sales\n",
    "sales_oil = sales_oil.merge(oil, on=\"date\", how=\"left\") \n",
    "sales_oil.head(5)"
   ]
  },
  {
   "cell_type": "code",
   "execution_count": 12,
   "id": "e83d2dc3",
   "metadata": {},
   "outputs": [
    {
     "data": {
      "image/png": "[encoded data removed]",
      "text/plain": [
       "<Figure size 1400x600 with 2 Axes>"
      ]
     },
     "metadata": {},
     "output_type": "display_data"
    }
   ],
   "source": [
    "\n",
    "# Create figure + primary axis\n",
    "fig, ax = plt.subplots(figsize=(14, 6))\n",
    "\n",
    "# Adjust margins\n",
    "fig.subplots_adjust(bottom=0.15, left=0.2, hspace=0.5, wspace=0.5)\n",
    "\n",
    "# Plot on primary y-axis\n",
    "ax.plot(\n",
    "    sales_oil[\"date\"],\n",
    "    sales_oil[\"unit_sales\"],\n",
    "    label=\"Total Unit Sales\",\n",
    "    color=\"blue\",\n",
    "    alpha=0.6\n",
    ")\n",
    "ax.set_ylabel(\n",
    "    \"Unit Sales\",\n",
    "    labelpad=10,\n",
    "    fontsize=20,\n",
    "    fontweight=\"bold\"\n",
    ")\n",
    "\n",
    "# Create secondary y-axis\n",
    "ax2 = ax.twinx()\n",
    "ax2.plot(\n",
    "    sales_oil[\"date\"],\n",
    "    sales_oil[\"dcoilwtico\"],\n",
    "    label=\"Oil Prices\",\n",
    "    color=\"red\",\n",
    "    alpha=0.6\n",
    ")\n",
    "ax2.set_ylabel(\n",
    "    \"Oil Prices\",\n",
    "    labelpad=10,\n",
    "    fontsize=20,\n",
    "    fontweight=\"bold\"\n",
    ")\n",
    "\n",
    "# Common x-axis label and title\n",
    "ax.set_xlabel(\n",
    "    \"Year\",\n",
    "    labelpad=10,\n",
    "    fontsize=18,\n",
    "    fontweight=\"bold\"\n",
    ")\n",
    "fig.suptitle(\n",
    "    \"Oil Prices vs. Unit Sales\",\n",
    "    fontsize=24,\n",
    "    fontweight=\"bold\"\n",
    ")\n",
    "\n",
    "# Increase tick label size on both axes\n",
    "ax.tick_params(axis=\"both\", which=\"major\", labelsize=14)\n",
    "ax2.tick_params(axis=\"y\", which=\"major\", labelsize=14)\n",
    "\n",
    "# If you want rotated x‑ticks for readability:\n",
    "plt.setp(ax.get_xticklabels(), rotation=30, ha=\"right\")\n",
    "\n",
    "# Add legends\n",
    "lines, labels = ax.get_legend_handles_labels()\n",
    "lines2, labels2 = ax2.get_legend_handles_labels()\n",
    "ax.legend(lines + lines2, labels + labels2, fontsize=12, loc=\"best\")\n",
    "\n",
    "fig.tight_layout(pad=3.0)\n",
    "\n",
    "plt.savefig(\"../output/figures/oil_sale.tiff\", dpi=300, bbox_inches=\"tight\")\n",
    "plt.show()\n",
    "plt.close()         # closes the current figure\n",
    "\n"
   ]
  },
  {
   "cell_type": "code",
   "execution_count": 13,
   "id": "120c1f00",
   "metadata": {},
   "outputs": [
    {
     "data": {
      "text/plain": [
       "167304"
      ]
     },
     "execution_count": 13,
     "metadata": {},
     "output_type": "execute_result"
    }
   ],
   "source": [
    "len(df)"
   ]
  },
  {
   "cell_type": "code",
   "execution_count": 14,
   "id": "cc66b311",
   "metadata": {},
   "outputs": [
    {
     "name": "stdout",
     "output_type": "stream",
     "text": [
      "Unique (store, item) pairs: 100\n"
     ]
    }
   ],
   "source": [
    "# Extract store-item pairs from the 'id' column\n",
    "df[\"store_item\"] = df[\"store_nbr\"].astype(str).str.cat(df[\"item_nbr\"].astype(str), sep=\"_\")\n",
    "print(\"Unique (store, item) pairs:\", df[\"store_item\"].nunique())\n"
   ]
  },
  {
   "cell_type": "code",
   "execution_count": 15,
   "id": "979c85fc",
   "metadata": {},
   "outputs": [],
   "source": [
    "df[\"date\"] = pd.to_datetime(df[\"date\"])\n",
    "df[\"unit_sales\"] = df[\"unit_sales\"].fillna(0)\n",
    "df['unit_sales'] = df['unit_sales'].clip(lower=0)"
   ]
  },
  {
   "cell_type": "code",
   "execution_count": 16,
   "id": "b6105194",
   "metadata": {},
   "outputs": [
    {
     "data": {
      "text/plain": [
       "<DatetimeArray>\n",
       "['2013-01-07 00:00:00', '2013-01-08 00:00:00', '2013-01-09 00:00:00',\n",
       " '2013-01-10 00:00:00', '2013-01-11 00:00:00', '2013-01-12 00:00:00',\n",
       " '2013-01-13 00:00:00', '2013-01-14 00:00:00', '2013-01-15 00:00:00',\n",
       " '2013-01-16 00:00:00',\n",
       " ...\n",
       " '2017-08-06 00:00:00', '2017-08-07 00:00:00', '2017-08-08 00:00:00',\n",
       " '2017-08-09 00:00:00', '2017-08-10 00:00:00', '2017-08-11 00:00:00',\n",
       " '2017-08-12 00:00:00', '2017-08-13 00:00:00', '2017-08-14 00:00:00',\n",
       " '2017-08-15 00:00:00']\n",
       "Length: 1674, dtype: datetime64[ns]"
      ]
     },
     "execution_count": 16,
     "metadata": {},
     "output_type": "execute_result"
    }
   ],
   "source": [
    "df[\"date\"].unique()"
   ]
  },
  {
   "cell_type": "code",
   "execution_count": 17,
   "id": "6bbeb6c4",
   "metadata": {},
   "outputs": [
    {
     "name": "stdout",
     "output_type": "stream",
     "text": [
      "min_date: 2013-01-07 00:00:00\n",
      "first day of the first full week: 2013-01-07 00:00:00\n"
     ]
    }
   ],
   "source": [
    "\n",
    "# assume df[\"date\"] is datetime64[ns]\n",
    "min_date = df[\"date\"].min()\n",
    "\n",
    "# compute the Monday of the week containing min_date\n",
    "week_start = min_date - pd.Timedelta(days=min_date.weekday())\n",
    "week_start\n",
    "#if min_date is already a Monday, keep that; otherwise bump to next week’s Monday\n",
    "if min_date.weekday() == 0:\n",
    "    first_monday = week_start\n",
    "else:\n",
    "    first_monday = week_start + pd.Timedelta(days=7)\n",
    "\n",
    "print(\"min_date:\", min_date)\n",
    "print(\"first day of the first full week:\", first_monday)\n",
    "df = df[df['date'] >= first_monday]\n"
   ]
  },
  {
   "cell_type": "code",
   "execution_count": null,
   "id": "93438ebc",
   "metadata": {},
   "outputs": [],
   "source": [
    " # Save to a new CSV\n",
    "df.to_csv(\n",
    "    \"../output/data/train_top_10_store_10_item.csv\",\n",
    "    index=False\n",
    ")"
   ]
  },
  {
   "cell_type": "markdown",
   "id": "94389e3d",
   "metadata": {},
   "source": [
    "# Preprocessing Test Data"
   ]
  },
  {
   "cell_type": "code",
   "execution_count": 22,
   "id": "fdeb7bbf",
   "metadata": {},
   "outputs": [],
   "source": [
    "dtype_dict={\"id\":np.uint32,\n",
    "            \"store_nbr\":np.uint8,\n",
    "            \"item_nbr\":np.uint32,\n",
    "            \"onpromotion\":np.float32\n",
    "           }\n",
    "test_df = pd.read_csv(\"../data/test.csv\", dtype=dtype_dict)"
   ]
  },
  {
   "cell_type": "code",
   "execution_count": 23,
   "id": "ad3a6a0b",
   "metadata": {},
   "outputs": [
    {
     "data": {
      "text/plain": [
       "3370464"
      ]
     },
     "execution_count": 23,
     "metadata": {},
     "output_type": "execute_result"
    }
   ],
   "source": [
    "test_df.drop(\"id\", axis=1, inplace=True)\n",
    "test_df[\"date\"] = pd.to_datetime(test_df[\"date\"])\n",
    "test_df[\"unit_sales\"] = 0\n",
    "test_df[\"store_item\"] = test_df[\"store_nbr\"].astype(str).str.cat(test_df[\"item_nbr\"].astype(str), sep=\"_\")\n",
    "len(test_df)"
   ]
  },
  {
   "cell_type": "code",
   "execution_count": 24,
   "id": "9e485f8f",
   "metadata": {},
   "outputs": [
    {
     "data": {
      "text/html": [
       "<div>\n",
       "<style scoped>\n",
       "    .dataframe tbody tr th:only-of-type {\n",
       "        vertical-align: middle;\n",
       "    }\n",
       "\n",
       "    .dataframe tbody tr th {\n",
       "        vertical-align: top;\n",
       "    }\n",
       "\n",
       "    .dataframe thead th {\n",
       "        text-align: right;\n",
       "    }\n",
       "</style>\n",
       "<table border=\"1\" class=\"dataframe\">\n",
       "  <thead>\n",
       "    <tr style=\"text-align: right;\">\n",
       "      <th></th>\n",
       "      <th>date</th>\n",
       "      <th>store_item</th>\n",
       "      <th>store_nbr</th>\n",
       "      <th>item_nbr</th>\n",
       "      <th>onpromotion</th>\n",
       "      <th>unit_sales</th>\n",
       "    </tr>\n",
       "  </thead>\n",
       "  <tbody>\n",
       "    <tr>\n",
       "      <th>0</th>\n",
       "      <td>2017-08-16</td>\n",
       "      <td>10_1000866</td>\n",
       "      <td>10</td>\n",
       "      <td>1000866</td>\n",
       "      <td>0.0</td>\n",
       "      <td>0</td>\n",
       "    </tr>\n",
       "    <tr>\n",
       "      <th>1</th>\n",
       "      <td>2017-08-16</td>\n",
       "      <td>10_1001305</td>\n",
       "      <td>10</td>\n",
       "      <td>1001305</td>\n",
       "      <td>0.0</td>\n",
       "      <td>0</td>\n",
       "    </tr>\n",
       "    <tr>\n",
       "      <th>2</th>\n",
       "      <td>2017-08-16</td>\n",
       "      <td>10_1003679</td>\n",
       "      <td>10</td>\n",
       "      <td>1003679</td>\n",
       "      <td>0.0</td>\n",
       "      <td>0</td>\n",
       "    </tr>\n",
       "    <tr>\n",
       "      <th>3</th>\n",
       "      <td>2017-08-16</td>\n",
       "      <td>10_1004545</td>\n",
       "      <td>10</td>\n",
       "      <td>1004545</td>\n",
       "      <td>0.0</td>\n",
       "      <td>0</td>\n",
       "    </tr>\n",
       "    <tr>\n",
       "      <th>4</th>\n",
       "      <td>2017-08-16</td>\n",
       "      <td>10_1004550</td>\n",
       "      <td>10</td>\n",
       "      <td>1004550</td>\n",
       "      <td>1.0</td>\n",
       "      <td>0</td>\n",
       "    </tr>\n",
       "  </tbody>\n",
       "</table>\n",
       "</div>"
      ],
      "text/plain": [
       "        date  store_item  store_nbr  item_nbr  onpromotion  unit_sales\n",
       "0 2017-08-16  10_1000866         10   1000866          0.0           0\n",
       "1 2017-08-16  10_1001305         10   1001305          0.0           0\n",
       "2 2017-08-16  10_1003679         10   1003679          0.0           0\n",
       "3 2017-08-16  10_1004545         10   1004545          0.0           0\n",
       "4 2017-08-16  10_1004550         10   1004550          1.0           0"
      ]
     },
     "execution_count": 24,
     "metadata": {},
     "output_type": "execute_result"
    }
   ],
   "source": [
    "cols = ['date', 'store_item', 'store_nbr', 'item_nbr'] + [c for c in test_df.columns \n",
    "                                  if c not in ('date', 'store_item', 'store_nbr', 'item_nbr')]\n",
    "test_df = test_df[cols]\n",
    "test_df = test_df.sort_values(by=['date', 'store_item'])\n",
    "test_df = test_df.reset_index(drop=True)\n",
    "test_df.head(5)"
   ]
  },
  {
   "cell_type": "code",
   "execution_count": 21,
   "id": "566473f9",
   "metadata": {},
   "outputs": [
    {
     "data": {
      "text/html": [
       "<div>\n",
       "<style scoped>\n",
       "    .dataframe tbody tr th:only-of-type {\n",
       "        vertical-align: middle;\n",
       "    }\n",
       "\n",
       "    .dataframe tbody tr th {\n",
       "        vertical-align: top;\n",
       "    }\n",
       "\n",
       "    .dataframe thead th {\n",
       "        text-align: right;\n",
       "    }\n",
       "</style>\n",
       "<table border=\"1\" class=\"dataframe\">\n",
       "  <thead>\n",
       "    <tr style=\"text-align: right;\">\n",
       "      <th></th>\n",
       "      <th>id</th>\n",
       "      <th>date</th>\n",
       "      <th>store_nbr</th>\n",
       "      <th>item_nbr</th>\n",
       "      <th>onpromotion</th>\n",
       "      <th>unit_sales</th>\n",
       "      <th>store_item</th>\n",
       "    </tr>\n",
       "  </thead>\n",
       "  <tbody>\n",
       "    <tr>\n",
       "      <th>0</th>\n",
       "      <td>125497040</td>\n",
       "      <td>2017-08-16</td>\n",
       "      <td>1</td>\n",
       "      <td>96995</td>\n",
       "      <td>0.0</td>\n",
       "      <td>0</td>\n",
       "      <td>1_96995</td>\n",
       "    </tr>\n",
       "    <tr>\n",
       "      <th>1</th>\n",
       "      <td>125497041</td>\n",
       "      <td>2017-08-16</td>\n",
       "      <td>1</td>\n",
       "      <td>99197</td>\n",
       "      <td>0.0</td>\n",
       "      <td>0</td>\n",
       "      <td>1_99197</td>\n",
       "    </tr>\n",
       "    <tr>\n",
       "      <th>2</th>\n",
       "      <td>125497042</td>\n",
       "      <td>2017-08-16</td>\n",
       "      <td>1</td>\n",
       "      <td>103501</td>\n",
       "      <td>0.0</td>\n",
       "      <td>0</td>\n",
       "      <td>1_103501</td>\n",
       "    </tr>\n",
       "    <tr>\n",
       "      <th>3</th>\n",
       "      <td>125497043</td>\n",
       "      <td>2017-08-16</td>\n",
       "      <td>1</td>\n",
       "      <td>103520</td>\n",
       "      <td>0.0</td>\n",
       "      <td>0</td>\n",
       "      <td>1_103520</td>\n",
       "    </tr>\n",
       "    <tr>\n",
       "      <th>4</th>\n",
       "      <td>125497044</td>\n",
       "      <td>2017-08-16</td>\n",
       "      <td>1</td>\n",
       "      <td>103665</td>\n",
       "      <td>0.0</td>\n",
       "      <td>0</td>\n",
       "      <td>1_103665</td>\n",
       "    </tr>\n",
       "  </tbody>\n",
       "</table>\n",
       "</div>"
      ],
      "text/plain": [
       "          id       date  store_nbr  item_nbr  onpromotion  unit_sales  \\\n",
       "0  125497040 2017-08-16          1     96995          0.0           0   \n",
       "1  125497041 2017-08-16          1     99197          0.0           0   \n",
       "2  125497042 2017-08-16          1    103501          0.0           0   \n",
       "3  125497043 2017-08-16          1    103520          0.0           0   \n",
       "4  125497044 2017-08-16          1    103665          0.0           0   \n",
       "\n",
       "  store_item  \n",
       "0    1_96995  \n",
       "1    1_99197  \n",
       "2   1_103501  \n",
       "3   1_103520  \n",
       "4   1_103665  "
      ]
     },
     "execution_count": 21,
     "metadata": {},
     "output_type": "execute_result"
    }
   ],
   "source": [
    "test_df.head(5)"
   ]
  },
  {
   "cell_type": "code",
   "execution_count": 25,
   "id": "148d992e",
   "metadata": {},
   "outputs": [
    {
     "data": {
      "text/html": [
       "<div>\n",
       "<style scoped>\n",
       "    .dataframe tbody tr th:only-of-type {\n",
       "        vertical-align: middle;\n",
       "    }\n",
       "\n",
       "    .dataframe tbody tr th {\n",
       "        vertical-align: top;\n",
       "    }\n",
       "\n",
       "    .dataframe thead th {\n",
       "        text-align: right;\n",
       "    }\n",
       "</style>\n",
       "<table border=\"1\" class=\"dataframe\">\n",
       "  <thead>\n",
       "    <tr style=\"text-align: right;\">\n",
       "      <th></th>\n",
       "      <th>date</th>\n",
       "      <th>store_nbr</th>\n",
       "      <th>item_nbr</th>\n",
       "      <th>unit_sales</th>\n",
       "      <th>onpromotion</th>\n",
       "      <th>store_item</th>\n",
       "    </tr>\n",
       "  </thead>\n",
       "  <tbody>\n",
       "    <tr>\n",
       "      <th>0</th>\n",
       "      <td>2013-01-07</td>\n",
       "      <td>48</td>\n",
       "      <td>502331</td>\n",
       "      <td>70.00000</td>\n",
       "      <td>NaN</td>\n",
       "      <td>48_502331</td>\n",
       "    </tr>\n",
       "    <tr>\n",
       "      <th>72</th>\n",
       "      <td>2013-01-07</td>\n",
       "      <td>46</td>\n",
       "      <td>584028</td>\n",
       "      <td>304.27301</td>\n",
       "      <td>NaN</td>\n",
       "      <td>46_584028</td>\n",
       "    </tr>\n",
       "    <tr>\n",
       "      <th>71</th>\n",
       "      <td>2013-01-07</td>\n",
       "      <td>3</td>\n",
       "      <td>114790</td>\n",
       "      <td>28.00000</td>\n",
       "      <td>NaN</td>\n",
       "      <td>3_114790</td>\n",
       "    </tr>\n",
       "    <tr>\n",
       "      <th>70</th>\n",
       "      <td>2013-01-07</td>\n",
       "      <td>3</td>\n",
       "      <td>305229</td>\n",
       "      <td>89.00000</td>\n",
       "      <td>NaN</td>\n",
       "      <td>3_305229</td>\n",
       "    </tr>\n",
       "    <tr>\n",
       "      <th>69</th>\n",
       "      <td>2013-01-07</td>\n",
       "      <td>3</td>\n",
       "      <td>314384</td>\n",
       "      <td>106.00000</td>\n",
       "      <td>NaN</td>\n",
       "      <td>3_314384</td>\n",
       "    </tr>\n",
       "  </tbody>\n",
       "</table>\n",
       "</div>"
      ],
      "text/plain": [
       "         date  store_nbr  item_nbr  unit_sales onpromotion store_item\n",
       "0  2013-01-07         48    502331    70.00000         NaN  48_502331\n",
       "72 2013-01-07         46    584028   304.27301         NaN  46_584028\n",
       "71 2013-01-07          3    114790    28.00000         NaN   3_114790\n",
       "70 2013-01-07          3    305229    89.00000         NaN   3_305229\n",
       "69 2013-01-07          3    314384   106.00000         NaN   3_314384"
      ]
     },
     "execution_count": 25,
     "metadata": {},
     "output_type": "execute_result"
    }
   ],
   "source": [
    "df.head(5)"
   ]
  },
  {
   "cell_type": "code",
   "execution_count": 27,
   "id": "6c7971e9",
   "metadata": {},
   "outputs": [
    {
     "data": {
      "text/plain": [
       "[48, 46, 3, 8, 44, 45, 50, 49, 47, 51]"
      ]
     },
     "execution_count": 27,
     "metadata": {},
     "output_type": "execute_result"
    }
   ],
   "source": [
    "valid_stores = df[\"store_nbr\"].unique().tolist()\n",
    "valid_stores"
   ]
  },
  {
   "cell_type": "code",
   "execution_count": 28,
   "id": "f26def82",
   "metadata": {},
   "outputs": [
    {
     "data": {
      "text/plain": [
       "[502331,\n",
       " 584028,\n",
       " 114790,\n",
       " 305229,\n",
       " 314384,\n",
       " 364606,\n",
       " 567623,\n",
       " 581078,\n",
       " 582864,\n",
       " 1047679]"
      ]
     },
     "execution_count": 28,
     "metadata": {},
     "output_type": "execute_result"
    }
   ],
   "source": [
    "valid_items = df[\"item_nbr\"].unique().tolist()\n",
    "valid_items"
   ]
  },
  {
   "cell_type": "code",
   "execution_count": 29,
   "id": "f0d831a6",
   "metadata": {},
   "outputs": [
    {
     "data": {
      "text/plain": [
       "1600"
      ]
     },
     "execution_count": 29,
     "metadata": {},
     "output_type": "execute_result"
    }
   ],
   "source": [
    "test_df_filtered = test_df[test_df[\"store_nbr\"].isin(valid_stores) ]\n",
    "test_df_filtered = test_df_filtered[ test_df_filtered[\"item_nbr\"].isin(valid_items) ]\n",
    "len(test_df_filtered)"
   ]
  },
  {
   "cell_type": "code",
   "execution_count": 30,
   "id": "4f228364",
   "metadata": {},
   "outputs": [
    {
     "name": "stdout",
     "output_type": "stream",
     "text": [
      "Unique (store, item) pairs: 100\n"
     ]
    }
   ],
   "source": [
    "print(\"Unique (store, item) pairs:\", test_df_filtered[\"store_item\"].nunique())"
   ]
  },
  {
   "cell_type": "code",
   "execution_count": 35,
   "id": "b863382e",
   "metadata": {},
   "outputs": [
    {
     "data": {
      "text/html": [
       "<div>\n",
       "<style scoped>\n",
       "    .dataframe tbody tr th:only-of-type {\n",
       "        vertical-align: middle;\n",
       "    }\n",
       "\n",
       "    .dataframe tbody tr th {\n",
       "        vertical-align: top;\n",
       "    }\n",
       "\n",
       "    .dataframe thead th {\n",
       "        text-align: right;\n",
       "    }\n",
       "</style>\n",
       "<table border=\"1\" class=\"dataframe\">\n",
       "  <thead>\n",
       "    <tr style=\"text-align: right;\">\n",
       "      <th></th>\n",
       "      <th>date</th>\n",
       "      <th>store_item</th>\n",
       "      <th>store_nbr</th>\n",
       "      <th>item_nbr</th>\n",
       "      <th>onpromotion</th>\n",
       "      <th>unit_sales</th>\n",
       "    </tr>\n",
       "  </thead>\n",
       "  <tbody>\n",
       "    <tr>\n",
       "      <th>124905</th>\n",
       "      <td>2017-08-16</td>\n",
       "      <td>3_1047679</td>\n",
       "      <td>3</td>\n",
       "      <td>1047679</td>\n",
       "      <td>0.0</td>\n",
       "      <td>0</td>\n",
       "    </tr>\n",
       "    <tr>\n",
       "      <th>125164</th>\n",
       "      <td>2017-08-16</td>\n",
       "      <td>3_114790</td>\n",
       "      <td>3</td>\n",
       "      <td>114790</td>\n",
       "      <td>1.0</td>\n",
       "      <td>0</td>\n",
       "    </tr>\n",
       "    <tr>\n",
       "      <th>127671</th>\n",
       "      <td>2017-08-16</td>\n",
       "      <td>3_305229</td>\n",
       "      <td>3</td>\n",
       "      <td>305229</td>\n",
       "      <td>0.0</td>\n",
       "      <td>0</td>\n",
       "    </tr>\n",
       "    <tr>\n",
       "      <th>127695</th>\n",
       "      <td>2017-08-16</td>\n",
       "      <td>3_314384</td>\n",
       "      <td>3</td>\n",
       "      <td>314384</td>\n",
       "      <td>1.0</td>\n",
       "      <td>0</td>\n",
       "    </tr>\n",
       "    <tr>\n",
       "      <th>127783</th>\n",
       "      <td>2017-08-16</td>\n",
       "      <td>3_364606</td>\n",
       "      <td>3</td>\n",
       "      <td>364606</td>\n",
       "      <td>0.0</td>\n",
       "      <td>0</td>\n",
       "    </tr>\n",
       "  </tbody>\n",
       "</table>\n",
       "</div>"
      ],
      "text/plain": [
       "             date store_item  store_nbr  item_nbr  onpromotion  unit_sales\n",
       "124905 2017-08-16  3_1047679          3   1047679          0.0           0\n",
       "125164 2017-08-16   3_114790          3    114790          1.0           0\n",
       "127671 2017-08-16   3_305229          3    305229          0.0           0\n",
       "127695 2017-08-16   3_314384          3    314384          1.0           0\n",
       "127783 2017-08-16   3_364606          3    364606          0.0           0"
      ]
     },
     "execution_count": 35,
     "metadata": {},
     "output_type": "execute_result"
    }
   ],
   "source": [
    "test_df_filtered.head(5)"
   ]
  },
  {
   "cell_type": "code",
   "execution_count": 33,
   "id": "c5bcfebd",
   "metadata": {},
   "outputs": [],
   "source": [
    "test_df_filtered.to_excel(\n",
    "    \"../output/data/test_top_10_store_10_store_item.xlsx\",\n",
    "    index=False\n",
    ")"
   ]
  },
  {
   "cell_type": "code",
   "execution_count": 36,
   "id": "817a4eff",
   "metadata": {},
   "outputs": [
    {
     "data": {
      "text/html": [
       "<div>\n",
       "<style scoped>\n",
       "    .dataframe tbody tr th:only-of-type {\n",
       "        vertical-align: middle;\n",
       "    }\n",
       "\n",
       "    .dataframe tbody tr th {\n",
       "        vertical-align: top;\n",
       "    }\n",
       "\n",
       "    .dataframe thead th {\n",
       "        text-align: right;\n",
       "    }\n",
       "</style>\n",
       "<table border=\"1\" class=\"dataframe\">\n",
       "  <thead>\n",
       "    <tr style=\"text-align: right;\">\n",
       "      <th></th>\n",
       "      <th>item_nbr</th>\n",
       "      <th>family</th>\n",
       "      <th>class</th>\n",
       "      <th>perishable</th>\n",
       "    </tr>\n",
       "  </thead>\n",
       "  <tbody>\n",
       "    <tr>\n",
       "      <th>0</th>\n",
       "      <td>96995</td>\n",
       "      <td>GROCERY I</td>\n",
       "      <td>1093</td>\n",
       "      <td>0</td>\n",
       "    </tr>\n",
       "    <tr>\n",
       "      <th>1</th>\n",
       "      <td>99197</td>\n",
       "      <td>GROCERY I</td>\n",
       "      <td>1067</td>\n",
       "      <td>0</td>\n",
       "    </tr>\n",
       "    <tr>\n",
       "      <th>2</th>\n",
       "      <td>103501</td>\n",
       "      <td>CLEANING</td>\n",
       "      <td>3008</td>\n",
       "      <td>0</td>\n",
       "    </tr>\n",
       "    <tr>\n",
       "      <th>3</th>\n",
       "      <td>103520</td>\n",
       "      <td>GROCERY I</td>\n",
       "      <td>1028</td>\n",
       "      <td>0</td>\n",
       "    </tr>\n",
       "    <tr>\n",
       "      <th>4</th>\n",
       "      <td>103665</td>\n",
       "      <td>BREAD/BAKERY</td>\n",
       "      <td>2712</td>\n",
       "      <td>1</td>\n",
       "    </tr>\n",
       "  </tbody>\n",
       "</table>\n",
       "</div>"
      ],
      "text/plain": [
       "   item_nbr        family  class  perishable\n",
       "0     96995     GROCERY I   1093           0\n",
       "1     99197     GROCERY I   1067           0\n",
       "2    103501      CLEANING   3008           0\n",
       "3    103520     GROCERY I   1028           0\n",
       "4    103665  BREAD/BAKERY   2712           1"
      ]
     },
     "execution_count": 36,
     "metadata": {},
     "output_type": "execute_result"
    }
   ],
   "source": [
    "item_df = pd.read_csv(\"../data/items.csv\")\n",
    "item_df.head(5)"
   ]
  },
  {
   "cell_type": "code",
   "execution_count": 40,
   "id": "1d3488b0",
   "metadata": {},
   "outputs": [
    {
     "data": {
      "text/html": [
       "<div>\n",
       "<style scoped>\n",
       "    .dataframe tbody tr th:only-of-type {\n",
       "        vertical-align: middle;\n",
       "    }\n",
       "\n",
       "    .dataframe tbody tr th {\n",
       "        vertical-align: top;\n",
       "    }\n",
       "\n",
       "    .dataframe thead th {\n",
       "        text-align: right;\n",
       "    }\n",
       "</style>\n",
       "<table border=\"1\" class=\"dataframe\">\n",
       "  <thead>\n",
       "    <tr style=\"text-align: right;\">\n",
       "      <th></th>\n",
       "      <th>item</th>\n",
       "      <th>weight</th>\n",
       "    </tr>\n",
       "  </thead>\n",
       "  <tbody>\n",
       "    <tr>\n",
       "      <th>0</th>\n",
       "      <td>96995</td>\n",
       "      <td>1.00</td>\n",
       "    </tr>\n",
       "    <tr>\n",
       "      <th>1</th>\n",
       "      <td>99197</td>\n",
       "      <td>1.00</td>\n",
       "    </tr>\n",
       "    <tr>\n",
       "      <th>2</th>\n",
       "      <td>103501</td>\n",
       "      <td>1.00</td>\n",
       "    </tr>\n",
       "    <tr>\n",
       "      <th>3</th>\n",
       "      <td>103520</td>\n",
       "      <td>1.00</td>\n",
       "    </tr>\n",
       "    <tr>\n",
       "      <th>4</th>\n",
       "      <td>103665</td>\n",
       "      <td>1.25</td>\n",
       "    </tr>\n",
       "  </tbody>\n",
       "</table>\n",
       "</div>"
      ],
      "text/plain": [
       "     item  weight\n",
       "0   96995    1.00\n",
       "1   99197    1.00\n",
       "2  103501    1.00\n",
       "3  103520    1.00\n",
       "4  103665    1.25"
      ]
     },
     "execution_count": 40,
     "metadata": {},
     "output_type": "execute_result"
    }
   ],
   "source": [
    "w_perish = (\n",
    "    item_df\n",
    "      .query(\"perishable == 1\")[[\"item_nbr\"]]\n",
    "      .assign(weight=1.25)\n",
    ")\n",
    "\n",
    "# build the “non‑perishable” weights:\n",
    "w_non    = (\n",
    "    item_df\n",
    "      .query(\"perishable == 0\")[[\"item_nbr\"]]\n",
    "      .assign(weight=1.00)\n",
    ")\n",
    "\n",
    "# concatenate and reset index:\n",
    "weights_df = pd.concat([w_perish, w_non], ignore_index=True)\n",
    "\n",
    "# if you want to preserve original order:\n",
    "weights_df = (\n",
    "    item_df[['item_nbr']]\n",
    "      .merge(weights_df, on='item_nbr')\n",
    ")\n",
    "weights_df.rename(columns={\"item_nbr\": \"item\"}, inplace=True)\n",
    "\n",
    "weights_df.head()"
   ]
  },
  {
   "cell_type": "code",
   "execution_count": 43,
   "id": "25d397b1",
   "metadata": {},
   "outputs": [],
   "source": [
    "weights_df = weights_df[ weights_df[\"item\"].isin(valid_items) ]\n"
   ]
  },
  {
   "cell_type": "code",
   "execution_count": 45,
   "id": "0b28f7d2",
   "metadata": {},
   "outputs": [],
   "source": [
    "weights_df.to_excel(\n",
    "    \"../output/data/top_10_item_weights.xlsx\",\n",
    "    index=False\n",
    ")"
   ]
  },
  {
   "cell_type": "code",
   "execution_count": null,
   "id": "7b022445",
   "metadata": {},
   "outputs": [],
   "source": []
  }
 ],
 "metadata": {
  "kernelspec": {
   "display_name": "interviews",
   "language": "python",
   "name": "python3"
  },
  "language_info": {
   "codemirror_mode": {
    "name": "ipython",
    "version": 3
   },
   "file_extension": ".py",
   "mimetype": "text/x-python",
   "name": "python",
   "nbconvert_exporter": "python",
   "pygments_lexer": "ipython3",
   "version": "3.12.9"
  }
 },
 "nbformat": 4,
 "nbformat_minor": 5
}
