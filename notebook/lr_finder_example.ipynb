{
 "cells": [
  {
   "cell_type": "markdown",
   "metadata": {},
   "source": [
    "# Learning Rate Finder Example\n",
    "\n",
    "This notebook demonstrates how to use the Learning Rate Finder to find optimal learning rates for your models."
   ]
  },
  {
   "cell_type": "code",
   "execution_count": null,
   "metadata": {},
   "outputs": [],
   "source": [
    "import sys\n",
    "from pathlib import Path\n",
    "import matplotlib.pyplot as plt\n",
    "import pandas as pd\n",
    "\n",
    "# Add project root to path\n",
    "project_root = Path().cwd().parent\n",
    "sys.path.insert(0, str(project_root))\n",
    "\n",
    "from script.lr_finder import run_lr_finder\n",
    "from src.model import ModelType"
   ]
  },
  {
   "cell_type": "markdown",
   "metadata": {},
   "source": [
    "## Configuration"
   ]
  },
  {
   "cell_type": "code",
   "execution_count": null,
   "metadata": {},
   "outputs": [],
   "source": [
    "# Paths\n",
    "dataloader_dir = Path(\"../output/data/dataloader_2014_2015_top_53_store_2000_item/\")\n",
    "output_dir = Path(\"../output/lr_finder/\")\n",
    "\n",
    "# Model configuration\n",
    "store_cluster = 17\n",
    "item_cluster = 15\n",
    "model_type = ModelType.SHALLOW_NN\n",
    "\n",
    "# LR Finder parameters\n",
    "start_lr = 1e-7\n",
    "end_lr = 1.0\n",
    "num_iter = 100\n",
    "\n",
    "print(f\"Dataloader directory: {dataloader_dir}\")\n",
    "print(f\"Output directory: {output_dir}\")\n",
    "print(f\"Store cluster: {store_cluster}, Item cluster: {item_cluster}\")\n",
    "print(f\"Model type: {model_type.value}\")"
   ]
  },
  {
   "cell_type": "markdown",
   "metadata": {},
   "source": [
    "## Run Learning Rate Finder"
   ]
  },
  {
   "cell_type": "code",
   "execution_count": null,
   "metadata": {},
   "outputs": [],
   "source": [
    "# Run the LR finder\n",
    "suggested_lr = run_lr_finder(\n",
    "    dataloader_dir=dataloader_dir,\n",
    "    store_cluster=store_cluster,\n",
    "    item_cluster=item_cluster,\n",
    "    model_type=model_type,\n",
    "    output_dir=output_dir,\n",
    "    start_lr=start_lr,\n",
    "    end_lr=end_lr,\n",
    "    num_iter=num_iter,\n",
    "    log_level=\"INFO\"\n",
    ")\n",
    "\n",
    "print(f\"\\nSuggested Learning Rate: {suggested_lr:.2e}\")"
   ]
  },
  {
   "cell_type": "markdown",
   "metadata": {},
   "source": [
    "## View Results"
   ]
  },
  {
   "cell_type": "code",
   "execution_count": null,
   "metadata": {},
   "outputs": [],
   "source": [
    "# Load and display the results\n",
    "csv_file = output_dir / f\"lr_finder_{store_cluster}_{item_cluster}_{model_type.value}.csv\"\n",
    "plot_file = output_dir / f\"lr_finder_{store_cluster}_{item_cluster}_{model_type.value}.png\"\n",
    "\n",
    "if csv_file.exists():\n",
    "    results_df = pd.read_csv(csv_file)\n",
    "    print(f\"Results loaded from {csv_file}\")\n",
    "    print(f\"Shape: {results_df.shape}\")\n",
    "    print(\"\\nFirst few rows:\")\n",
    "    print(results_df.head())\n",
    "    \n",
    "    print(\"\\nLast few rows:\")\n",
    "    print(results_df.tail())\n",
    "else:\n",
    "    print(f\"Results file not found: {csv_file}\")"
   ]
  },
  {
   "cell_type": "code",
   "execution_count": null,
   "metadata": {},
   "outputs": [],
   "source": [
    "# Display the plot\n",
    "if plot_file.exists():\n",
    "    from IPython.display import Image, display\n",
    "    print(f\"Learning Rate Finder Plot:\")\n",
    "    display(Image(str(plot_file)))\n",
    "else:\n",
    "    print(f\"Plot file not found: {plot_file}\")"
   ]
  },
  {
   "cell_type": "markdown",
   "metadata": {},
   "source": [
    "## Compare Multiple Model Types"
   ]
  },
  {
   "cell_type": "code",
   "execution_count": null,
   "metadata": {},
   "outputs": [],
   "source": [
    "# Run LR finder for different model types\n",
    "model_types = [ModelType.SHALLOW_NN, ModelType.TWO_LAYER_NN, ModelType.RESIDUAL_MLP]\n",
    "results = {}\n",
    "\n",
    "for model_type in model_types:\n",
    "    print(f\"\\nRunning LR Finder for {model_type.value}...\")\n",
    "    try:\n",
    "        suggested_lr = run_lr_finder(\n",
    "            dataloader_dir=dataloader_dir,\n",
    "            store_cluster=store_cluster,\n",
    "            item_cluster=item_cluster,\n",
    "            model_type=model_type,\n",
    "            output_dir=output_dir,\n",
    "            start_lr=start_lr,\n",
    "            end_lr=end_lr,\n",
    "            num_iter=50,  # Fewer iterations for comparison\n",
    "            log_level=\"WARNING\"  # Less verbose\n",
    "        )\n",
    "        results[model_type.value] = suggested_lr\n",
    "        print(f\"Suggested LR for {model_type.value}: {suggested_lr:.2e}\")\n",
    "    except Exception as e:\n",
    "        print(f\"Error with {model_type.value}: {e}\")\n",
    "        results[model_type.value] = None\n",
    "\n",
    "print(\"\\n\" + \"=\"*50)\n",
    "print(\"LEARNING RATE COMPARISON\")\n",
    "print(\"=\"*50)\n",
    "for model_name, lr in results.items():\n",
    "    if lr is not None:\n",
    "        print(f\"{model_name:15}: {lr:.2e}\")\n",
    "    else:\n",
    "        print(f\"{model_name:15}: Failed\")"
   ]
  },
  {
   "cell_type": "markdown",
   "metadata": {},
   "source": [
    "## Usage Recommendations\n",
    "\n",
    "Based on the Learning Rate Finder results:\n",
    "\n",
    "1. **Use the suggested learning rate** as a starting point for training\n",
    "2. **Consider using 1/10th of the suggested LR** for more conservative training\n",
    "3. **The optimal LR is typically where the loss decreases most steeply** (steepest negative gradient)\n",
    "4. **Avoid LRs where the loss starts to increase or becomes unstable**\n",
    "\n",
    "### Next Steps:\n",
    "1. Update your training script to use the suggested learning rate\n",
    "2. Consider using learning rate scheduling (like ReduceLROnPlateau) starting from this optimal LR\n",
    "3. Monitor training closely for the first few epochs to ensure stability"
   ]
  }
 ],
 "metadata": {
  "kernelspec": {
   "display_name": "Python 3",
   "language": "python",
   "name": "python3"
  },
  "language_info": {
   "codemirror_mode": {
    "name": "ipython",
    "version": 3
   },
   "file_extension": ".py",
   "mimetype": "text/x-python",
   "name": "python",
   "nbconvert_exporter": "python",
   "pyggle_favorita_grocery_sales_forecasting",
   "version": "3.8.0"
  }
 },
 "nbformat": 4,
 "nbformat_minor": 4
}
